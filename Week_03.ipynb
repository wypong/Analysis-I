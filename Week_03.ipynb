{
 "cells": [
  {
   "cell_type": "markdown",
   "metadata": {
    "slideshow": {
     "slide_type": "fragment"
    }
   },
   "source": [
    "$\\newcommand{\\Rr}{\\mathbb{R}}$\n",
    "$\\newcommand{\\Zz}{\\mathbb{Z}}$\n",
    "$\\newcommand{\\Nn}{\\mathbb{N}}$\n",
    "$\\newcommand{\\Qq}{\\mathbb{Q}}$\n",
    "$\\newcommand{\\ve}{\\varepsilon}$"
   ]
  },
  {
   "cell_type": "markdown",
   "metadata": {
    "slideshow": {
     "slide_type": "slide"
    }
   },
   "source": [
    "# Consequences of the Least Upper Bound Property"
   ]
  },
  {
   "cell_type": "markdown",
   "metadata": {
    "slideshow": {
     "slide_type": "slide"
    }
   },
   "source": [
    "Read **Section 1.2** and think about the following questions:\n",
    "\n",
    "* How do sup and inf behave with respect to various field operations?\n",
    "* What is the archimedean property?\n",
    "* Can you find an example of an ordered field that does not possess the archimedean property?"
   ]
  },
  {
   "cell_type": "markdown",
   "metadata": {
    "slideshow": {
     "slide_type": "slide"
    }
   },
   "source": [
    "<a id=\"C1\"></a>\n",
    "\n",
    "**C1.** $\\Nn$ is not bounded above in $\\Rr$."
   ]
  },
  {
   "cell_type": "markdown",
   "metadata": {
    "slideshow": {
     "slide_type": "fragment"
    },
    "tags": [
     "remove_cell"
    ]
   },
   "source": [
    "**Proof.** Suppose not, then $u:=\\sup \\Nn$ exists. Since $u-1 <u$, so it cannot be an upper bound of $\\Nn$. Thus, there exists $n \\in \\Nn$ with $u-1 < n$. But then $u < n+1 \\in \\Nn$, contradicting $u$ is an upper bound of $\\Nn$. "
   ]
  },
  {
   "cell_type": "markdown",
   "metadata": {
    "slideshow": {
     "slide_type": "fragment"
    }
   },
   "source": [
    "<a id=\"C2\"></a>\n",
    "**C2.** For any $\\varepsilon > 0$, there exists $n \\in \\Nn$ such that $1/n < \\ve$."
   ]
  },
  {
   "cell_type": "markdown",
   "metadata": {
    "slideshow": {
     "slide_type": "fragment"
    },
    "tags": [
     "remove_cell"
    ]
   },
   "source": [
    "**Proof.** By [C1](#C1) there exists $n \\in \\Nn$ so that $n > 1/\\ve >0$. Equivalently, $1/n < \\ve$."
   ]
  },
  {
   "cell_type": "markdown",
   "metadata": {
    "slideshow": {
     "slide_type": "slide"
    }
   },
   "source": [
    "<a id=\"C3\"></a>\n",
    "**C3.** For any $x \\in \\Rr$, there exists $n \\in \\Zz$ such that $n \\le x < n+1$."
   ]
  },
  {
   "cell_type": "markdown",
   "metadata": {
    "slideshow": {
     "slide_type": "fragment"
    },
    "tags": [
     "remove_cell"
    ]
   },
   "source": [
    "**Proof.** By [C1](#C1) there exists $N \\in \\Nn$ so that $N > |x|$, i.e. $-N < x < N$. By going through the integers in $S:=\\{-N, -N+1, \\ldots, 0, \\ldots, N\\}$, from the smallest to the largest, eventually one finds the largest $n \\in S$ that is not bigger than $x$. Because $N > x$, so $n$ cannot be $N$. And since $n \\in S$, that means $n$ must be strictly less than $N$. Consequently, $n+1$ is still in $S$. Now by our choice of $n$, $n+1$ must exceed $x$. Therefore, we have\n",
    "$$ n \\le x < n+1.$$"
   ]
  },
  {
   "cell_type": "markdown",
   "metadata": {
    "slideshow": {
     "slide_type": "slide"
    }
   },
   "source": [
    "<a id=\"C4\"></a>\n",
    "**C4.** For any $x \\in \\Rr$ and $N \\in \\Nn$, there is an integer $n$ such that \n",
    "$$\n",
    "\\frac{n}{N} \\le x < \\frac{n+1}{N}\n",
    "$$"
   ]
  },
  {
   "cell_type": "markdown",
   "metadata": {
    "slideshow": {
     "slide_type": "fragment"
    },
    "tags": [
     "remove_cell"
    ]
   },
   "source": [
    "**Proof.** By [C3](#C3) there exists $n \\in \\Zz$ such that $n\\le Nx < n+1$. Now divide by $N$ throughout."
   ]
  },
  {
   "cell_type": "markdown",
   "metadata": {
    "slideshow": {
     "slide_type": "slide"
    }
   },
   "source": [
    "<a id=\"C5\"></a>\n",
    "**C5.** For any $x \\in \\Rr$ and $\\ve > 0$. There exists $q \\in \\Qq$ such that $|x - q| < \\ve$. "
   ]
  },
  {
   "cell_type": "markdown",
   "metadata": {
    "slideshow": {
     "slide_type": "fragment"
    },
    "tags": [
     "remove_cell"
    ]
   },
   "source": [
    "**Proof.** According to [C2](#C2), we can choose $N \\in \\Nn$ so that $1/N < \\ve$. Now by [C4](#C4), there exists $n \\in \\Zz$ such that\n",
    "$$\n",
    "\\frac{n}{N} \\le x < \\frac{n+1}{N} < \\frac{n}{N} + \\ve.\n",
    "$$\n",
    "Therefore, $0 \\le x - n/N < \\ve$ and so $|x - n/N| < \\ve$."
   ]
  },
  {
   "cell_type": "markdown",
   "metadata": {
    "slideshow": {
     "slide_type": "slide"
    }
   },
   "source": [
    "<a id=\"denseQ\"></a>\n",
    "**Proposition.** $\\Qq$ is dense in $\\Rr$. That is in between any two real numbers lie a rational."
   ]
  },
  {
   "cell_type": "markdown",
   "metadata": {
    "slideshow": {
     "slide_type": "fragment"
    },
    "tags": [
     "remove_cell"
    ]
   },
   "source": [
    "**Proof.** Pick any real numbers $x < y$. Then $\\ve := (y-x)/2 > 0$ and so by [C5](#C5) \n",
    "\n",
    "$|(x+y)/2 -q| < \\ve$ or equivalently $x < q < y$ for some $q \\in \\Qq$."
   ]
  },
  {
   "cell_type": "markdown",
   "metadata": {
    "slideshow": {
     "slide_type": "slide"
    }
   },
   "source": [
    "**Archimedean Property** For any $x \\in \\Rr$ and $\\ve > 0$, $N\\ve > x$ for some $N \\in \\Nn$."
   ]
  },
  {
   "cell_type": "markdown",
   "metadata": {
    "slideshow": {
     "slide_type": "fragment"
    },
    "tags": [
     "remove_cell"
    ]
   },
   "source": [
    "**Proof.** By [C1](#C1), $x/\\ve < N$ for some $N \\in \\Nn$. Equivalently, $x < N\\ve$ since $\\ve > 0$."
   ]
  },
  {
   "cell_type": "markdown",
   "metadata": {
    "slideshow": {
     "slide_type": "slide"
    }
   },
   "source": [
    "## Existence of Square Root (optional)"
   ]
  },
  {
   "cell_type": "markdown",
   "metadata": {
    "slideshow": {
     "slide_type": "fragment"
    }
   },
   "source": [
    "**Proposition.** Every positive number has a unique poisitive square root. "
   ]
  },
  {
   "cell_type": "markdown",
   "metadata": {
    "slideshow": {
     "slide_type": "fragment"
    }
   },
   "source": [
    "**Idea.** Since $f(x) =x^2$ is increasing on the set of positive reals, a positive real number can have at most one positive square root. Suppose $a > 0$, argue that the set $S = \\{x \\in \\Rr \\colon x >0, x^2 \\le a\\}$ is nonempty and bounded above, so $\\sup S$ exists. Finally, argue that $(\\sup S)^2 =a$. (Sketch of graph of $f(x) =x^2$)."
   ]
  },
  {
   "cell_type": "markdown",
   "metadata": {
    "slideshow": {
     "slide_type": "slide"
    },
    "tags": [
     "remove_cell"
    ]
   },
   "source": [
    "**Proof.** Note that for positive $x,y \\in \\Rr$ if $x < y$ then $x^2 < y^2$. Thus, any real number can have at most one positive square root. "
   ]
  },
  {
   "cell_type": "markdown",
   "metadata": {
    "slideshow": {
     "slide_type": "fragment"
    },
    "tags": [
     "remove_cell"
    ]
   },
   "source": [
    "It remains to show that every positive real $a$ has a root square root. For this purpose consider the set\n",
    "$$\n",
    "S = \\{x \\in \\Rr \\colon x > 0, x^2 \\le a\\}.\n",
    "$$"
   ]
  },
  {
   "cell_type": "markdown",
   "metadata": {
    "slideshow": {
     "slide_type": "fragment"
    },
    "tags": [
     "remove_cell"
    ]
   },
   "source": [
    "If $0< a < 1$, then $a^2 < a$, otherwise $a \\ge 1$ and so $1^2 =1 \\le a$. This shows that $0 < m:=\\min\\{1,a\\}$ is in $S$ and hence it is non-empty."
   ]
  },
  {
   "cell_type": "markdown",
   "metadata": {
    "slideshow": {
     "slide_type": "fragment"
    },
    "tags": [
     "remove_cell"
    ]
   },
   "source": [
    "$S$ is also bounded above because if $x > M:=\\max\\{a,1\\}$ then $x^2 = x\\cdot x > a \\cdot 1 = a$. That means $M$ is an upper bound of $S$."
   ]
  },
  {
   "cell_type": "markdown",
   "metadata": {
    "slideshow": {
     "slide_type": "subslide"
    },
    "tags": [
     "remove_cell"
    ]
   },
   "source": [
    "So by the least upper bound property, $u:=\\sup S \\in \\Rr$ exists. We will show that $u > 0$ and $u^2 = a$."
   ]
  },
  {
   "cell_type": "markdown",
   "metadata": {
    "slideshow": {
     "slide_type": "fragment"
    },
    "tags": [
     "remove_cell"
    ]
   },
   "source": [
    "First, since $0 < \\min\\{1.a\\} \\in S$, $u \\ge \\min\\{1,a\\} >0$. \n",
    "\n",
    "For any $\\ve$ such that $0 < \\ve < u$, $0 < u-\\ve < u < u+\\ve$. Thus,\n",
    "$$ (u-\\ve)^2 < u^2 < (u+\\ve)^2. \\tag{1}$$"
   ]
  },
  {
   "cell_type": "markdown",
   "metadata": {
    "slideshow": {
     "slide_type": "fragment"
    },
    "tags": [
     "remove_cell"
    ]
   },
   "source": [
    "On the other hand, there exist $x \\in S$ such that $u-\\ve < x \\le u < u+\\ve$ and so $x^2 \\le a$. Note also that $(u+\\ve)^2 > a$, otherwise $u+\\ve$ would be in $S$ contradicting $u=\\sup S$. Putting these together we have \n",
    "$$\n",
    "(u-\\ve)^2 < x^2 \\le a < (u+\\ve)^2. \\tag{2}\n",
    "$$"
   ]
  },
  {
   "cell_type": "markdown",
   "metadata": {
    "slideshow": {
     "slide_type": "fragment"
    },
    "tags": [
     "remove_cell"
    ]
   },
   "source": [
    "Now it follows from (1) and (2) that\n",
    "$$\n",
    "0 \\le |u^2 -a | < (u+\\ve)^2 - (u-\\ve)^2 = 4u\\ve. \\tag{3}\n",
    "$$"
   ]
  },
  {
   "cell_type": "markdown",
   "metadata": {
    "slideshow": {
     "slide_type": "fragment"
    },
    "tags": [
     "remove_cell"
    ]
   },
   "source": [
    "Since $0< \\ve$ can be arbitarily small and $4u$ is a fix number, $4u\\ve > 0$ can be arbitarily small. It now follows from (3) that $|u^2-a|$ must be zero, i.e. $u^2 = a$."
   ]
  },
  {
   "cell_type": "markdown",
   "metadata": {
    "slideshow": {
     "slide_type": "slide"
    }
   },
   "source": [
    "**Proposition.** $\\Qq$ does not have the least upper bound property."
   ]
  },
  {
   "cell_type": "markdown",
   "metadata": {
    "slideshow": {
     "slide_type": "fragment"
    }
   },
   "source": [
    "**Ans.** The set $A :=\\{x \\in \\Qq \\colon x > 0, x^2 \\le 2\\}$ is non-empty and bounded above in $\\Qq$ because $1 \\in A$ and $2 \\in \\Qq$ is an upper bounded of $A$. \n",
    "\n",
    "If $A$ had a supremum in $\\Qq$, say $u$. Since $A \\subseteq \\{x \\in \\Rr \\colon x > 0, x^2 \\le 2\\}$, so $\\sqrt{2}$ is an upper bound of $A$ therefore $u \\le \\sqrt{2}$. If $u$ were strictly less than $\\sqrt{2}$, then since $\\Qq$ is dense in $\\Rr$, there exists $r \\in \\Qq$ such that $0< u < r < \\sqrt{2}$. But then $r^2 < 2$, so $r \\in A$, contradicting $u$ is an upper bound of $A$. So we must have $u = \\sqrt{2}$ but this contradicts the fact that $\\sqrt{2}$ is irrational. \n",
    "\n",
    "Thus, $A$ cannot have a supremum as a subset of $\\Qq$. Therefore, $\\Qq$ fails to have the least upper bound property."
   ]
  },
  {
   "cell_type": "markdown",
   "metadata": {
    "slideshow": {
     "slide_type": "fragment"
    }
   },
   "source": [
    "**Theorem.** Every ordered field with the least-upper-bound property is isomorphic to $\\Rr$.\n",
    "\n",
    "Here is a [proof](https://planetmath.org/everyorderedfieldwiththeleastupperboundpropertyisisomorphictomathbbrproofthat)."
   ]
  }
 ],
 "metadata": {
  "celltoolbar": "Slideshow",
  "kernelspec": {
   "display_name": "SageMath 9.6",
   "language": "sage",
   "name": "sagemath"
  },
  "language_info": {
   "codemirror_mode": {
    "name": "ipython",
    "version": 3
   },
   "file_extension": ".py",
   "mimetype": "text/x-python",
   "name": "python",
   "nbconvert_exporter": "python",
   "pygments_lexer": "ipython3",
   "version": "3.10.4"
  }
 },
 "nbformat": 4,
 "nbformat_minor": 4
}
