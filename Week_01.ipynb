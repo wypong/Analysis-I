{
 "cells": [
  {
   "cell_type": "markdown",
   "id": "fc3c0c0a",
   "metadata": {
    "slideshow": {
     "slide_type": "notes"
    }
   },
   "source": [
    "$\\newcommand{\\Rr}{\\mathbb{R}}$\n",
    "$\\newcommand{\\Nn}{\\mathbb{N}}$\n",
    "$\\newcommand{\\Zz}{\\mathbb{Z}}$\n",
    "$\\newcommand{\\Qq}{\\mathbb{Q}}$"
   ]
  },
  {
   "cell_type": "markdown",
   "id": "fa2b993c",
   "metadata": {
    "slideshow": {
     "slide_type": "slide"
    }
   },
   "source": [
    "# Some countable and uncountable subsets of $\\Rr$"
   ]
  },
  {
   "cell_type": "markdown",
   "id": "776d7ffd",
   "metadata": {
    "slideshow": {
     "slide_type": "subslide"
    }
   },
   "source": [
    "**Notation** \n",
    "\n",
    "* $\\Nn = \\{1,2,3,\\ldots \\}$. In this course, the set of natural numbers starts with $1$. (not $0$).\n",
    "\n",
    "* Sometime we use \"countable\" instead of \"countably infinite\" if the set in question is infinite.\n",
    "\n",
    "* $A \\subset B$ in the textbook means $A$ is a subset of $B$ and $A \\subsetneq B$ means $A$ is a proper subset of $B$, i.e. $A \\subset B$ and $A \\neq B$.  \n",
    "  It is also common to write $\\subseteq$ for subset and $\\subset$ for proper subset. But we will follow the the textbook notation.\n",
    "\n",
    "* We will use $(a_n)$ instead of the textbook notation $\\{a_n\\}$ to denote sequences because we would like to reserve $\\lbrace \\ldots \\rbrace$ strictly for sets. "
   ]
  },
  {
   "cell_type": "markdown",
   "id": "f665814b",
   "metadata": {
    "slideshow": {
     "slide_type": "slide"
    }
   },
   "source": [
    "Read Section 0.3 and try answering the following questions:\n",
    "\n",
    "1. What means by a function is injective (aka 1-to-1), surjective (aka onto), bijective (aka a 1-to-1 correspondence)? Give examples.\n",
    "1. For function $f \\colon X \\to Y$, and $A \\subset X, B \\subset Y$. What means by $f(A)$ and $f^{-1}(B)$? \n",
    "1. For function $f$ and $g$, when does $f \\circ g$ defines? Give an example that both $f \\circ g$ and $g \\circ f$ \n",
    "   are defined but $f \\circ g \\neq g \\circ f$.\n",
    "   "
   ]
  },
  {
   "cell_type": "markdown",
   "id": "393fc2b9",
   "metadata": {
    "slideshow": {
     "slide_type": "subslide"
    }
   },
   "source": [
    "4. What means by sets $A$ and $B$ have the same cardinality? What means by $|A| < |B|$?\n",
    "4. What means by $R$ is a relation from $A$ to $B$, What means by a relation is an equivalence relation? Give examples.\n",
    "4. What is the power set of a set $A$?. Give examples.\n",
    "4. What is $\\aleph_0$? (The textbook does not really answer this question)."
   ]
  },
  {
   "cell_type": "markdown",
   "id": "04a467b3",
   "metadata": {
    "slideshow": {
     "slide_type": "slide"
    }
   },
   "source": [
    "**Exercise.** Show that $\\Nn \\cup \\{0\\}$ is countable."
   ]
  },
  {
   "cell_type": "markdown",
   "id": "cf1e4c2a",
   "metadata": {
    "slideshow": {
     "slide_type": "fragment"
    }
   },
   "source": [
    "**Proof.** For example $n \\mapsto n-1$ is a bijection from $\\Nn$ to $\\Nn \\cup \\{0\\}$. (the inverse being $m \\mapsto m+1$. Certainly, there are many other bijection between these sets. For instance,\n",
    "$$\n",
    "n \\mapsto \n",
    "\\begin{cases}\n",
    "n & \\text{if $n$ is odd} \\\\\n",
    "n-2 & \\text{if $n$ is even}\n",
    "\\end{cases}\n",
    "$$\n",
    "is another one."
   ]
  },
  {
   "cell_type": "markdown",
   "id": "babdae0d",
   "metadata": {
    "slideshow": {
     "slide_type": "slide"
    }
   },
   "source": [
    "**Proposition.** $\\Nn^2$ is countable. "
   ]
  },
  {
   "cell_type": "markdown",
   "id": "9b1b910e",
   "metadata": {
    "slideshow": {
     "slide_type": "fragment"
    },
    "tags": [
     "remove_cell"
    ]
   },
   "source": [
    "**Proof.** Count by \"diagonals\" (see p.18 of the textbook). (Find a formular for the bijection)."
   ]
  },
  {
   "cell_type": "markdown",
   "id": "f08ca2d8",
   "metadata": {
    "slideshow": {
     "slide_type": "subslide"
    }
   },
   "source": [
    "**Exercise.** Show that $\\Nn^2 \\cup \\{(0,0)\\}$ is countable."
   ]
  },
  {
   "cell_type": "markdown",
   "id": "c04b2ab7",
   "metadata": {
    "slideshow": {
     "slide_type": "fragment"
    },
    "tags": [
     "remove_cell"
    ]
   },
   "source": [
    "**Proof.** Let $f$ be a bijection from $\\Nn$ to $\\Nn^2$, extend $f$ by setting $f(0) = (0,0)$. The resulting map is a bijection from $\\Nn \\cup \\{0\\}$ to $\\Nn^2 \\cup \\{(0,0)\\}$. Thus, $\\Nn^2 \\cup \\{(0,0)\\}$ is countable as $\\Nn \\cup\\{0\\}$ is."
   ]
  },
  {
   "cell_type": "markdown",
   "id": "3c546cc5",
   "metadata": {
    "slideshow": {
     "slide_type": "slide"
    }
   },
   "source": [
    "**Theorem** (Cantor-Bernstein-Schr&ouml;der)\n",
    "For sets $A$ and $B$, $|A| \\le |B|$ and $|B| \\le |A|$ implies $|A| =|B|$.\n",
    "\n",
    "**Proof.** I list two. Here is [one](https://www-users.cse.umn.edu/~garrett/m/algebra/cantor_schroeder_bernstein.pdf) and here is [another](https://math.uchicago.edu/~tghyde/Hyde%20--%20A%20dynamical%20proof%20of%20the%20Cantor-Bernstein%20theorem.pdf)."
   ]
  },
  {
   "cell_type": "markdown",
   "id": "2dbfcfc5",
   "metadata": {
    "slideshow": {
     "slide_type": "slide"
    }
   },
   "source": [
    "As an application of the CBS theorem, let us argue that\n",
    "\n",
    "**Proposition** $\\Qq$ is countable (consequently $\\Zz$ is countable)."
   ]
  },
  {
   "cell_type": "markdown",
   "id": "6b1c823c",
   "metadata": {
    "slideshow": {
     "slide_type": "fragment"
    },
    "tags": [
     "remove_cell"
    ]
   },
   "source": [
    "**Proof.** The map $n \\mapsto n/1$ is injective so $|\\Nn| \\le |\\Qq|$. On the other hand, the map \n",
    "$$\n",
    "r \\longmapsto\n",
    "\\begin{cases}\n",
    "(m,n) & \\text{if } r =\\dfrac{m}{n}, m \\neq 0, n > 0, m,n\\  \\text{coprime} \\\\\n",
    "(0,0) &\\text{if } r = 0.\n",
    "\\end{cases}\n",
    "$$\n",
    "is injective from $\\Qq$ to $\\Nn \\cup \\{(0,0)\\}$. And so $|\\Qq| \\le |\\Nn\\cup \\{(0,0)\\}| = |\\Nn|$. Thus, $\\Qq$ is countable by the CBS theorem."
   ]
  },
  {
   "cell_type": "markdown",
   "id": "94c39697",
   "metadata": {
    "slideshow": {
     "slide_type": "slide"
    }
   },
   "source": [
    "Let $X$ and $Y$ be sets. Denote by $P(X)$ the power set of $X$ and $Y^X$ the set of functions from $X$ to $Y$. "
   ]
  },
  {
   "cell_type": "markdown",
   "id": "247ceac1",
   "metadata": {
    "slideshow": {
     "slide_type": "fragment"
    }
   },
   "source": [
    "The **indicator function** of a subset $A$ of $X$, denoted by $1_A^X$ (or simply $1_A$ if $X$ is understood), is the function from $X$ to $2:=\\{0,1\\}$ defined by \n",
    "$$\n",
    "1_A(x) = \\begin{cases} 1 &\\text{if}\\ x \\in A \\\\ 0 &\\text{if}\\ x \\notin A \\end{cases}\n",
    "$$"
   ]
  },
  {
   "cell_type": "markdown",
   "id": "8e777af8",
   "metadata": {
    "slideshow": {
     "slide_type": "subslide"
    }
   },
   "source": [
    "For example, $X = \\{a,b,c\\}$ and $A = \\{a,c\\}$. Then $1_A$ is the function defined by $1_A(a) = 1, 1_A(b) = 0, 1_A(c) = 1$. "
   ]
  },
  {
   "cell_type": "markdown",
   "id": "3071924d",
   "metadata": {
    "slideshow": {
     "slide_type": "fragment"
    }
   },
   "source": [
    "On the other hand, for any $f \\in 2^X$, $f^{-1}(1)$ is a subset of $X$. E.g. say $f(a) = 0, f(b) = 1, f(c) =1$, then $f^{-1}(1) = \\{b,c\\}$."
   ]
  },
  {
   "cell_type": "markdown",
   "id": "b37b9144",
   "metadata": {
    "slideshow": {
     "slide_type": "fragment"
    }
   },
   "source": [
    "**Exercise.** Check that the pair of maps between $P(X)$ and $2^X$ given by $A \\stackrel{\\Phi}{\\mapsto} 1_A$ and $f\\stackrel{\\Psi}{\\mapsto} f^{-1}(1)$ are inverse of each other. "
   ]
  },
  {
   "cell_type": "markdown",
   "id": "81484a4a",
   "metadata": {
    "slideshow": {
     "slide_type": "fragment"
    }
   },
   "source": [
    "Consequently, $|P(X)| = |2^X|$."
   ]
  },
  {
   "cell_type": "markdown",
   "id": "57643515",
   "metadata": {
    "slideshow": {
     "slide_type": "slide"
    }
   },
   "source": [
    "**Theorem.**(Cantor) $|X| < |2^X|.$"
   ]
  },
  {
   "cell_type": "markdown",
   "id": "e0174fe2",
   "metadata": {
    "slideshow": {
     "slide_type": "fragment"
    },
    "tags": [
     "remove_cell"
    ]
   },
   "source": [
    "**Proof.** It is clear that $x \\mapsto 1_{\\{x\\}}$ is an injection from $X$ to $2^X$. It remains to show that $|X| \\neq |2^X|$. Suppose on the contrary that there is a bijection $\\Phi$ from $X$ to $2^X$. Then the map from $X$ to $2$ defined by $f(x) = 1 - \\Phi_x(x)$ must be $\\Phi_a$ for some $a \\in X$. But this leads to a contradiction because $f(a) = 1-\\Phi_a(a) \\neq \\Phi_a(a)$ hence $f$ and $\\Phi_a$ cannot be the same function."
   ]
  },
  {
   "cell_type": "markdown",
   "id": "b5508ba6",
   "metadata": {
    "slideshow": {
     "slide_type": "slide"
    }
   },
   "source": [
    "**Corollary.** $\\Rr$ is uncountable. (see p.39 of the textbook for another proof.)"
   ]
  },
  {
   "cell_type": "markdown",
   "id": "588513a0",
   "metadata": {
    "slideshow": {
     "slide_type": "fragment"
    },
    "tags": [
     "remove_cell"
    ]
   },
   "source": [
    "**Proof.** $\\Nn$ is a subset of $\\Rr$, so $|\\Nn| \\le |\\Rr|$. "
   ]
  },
  {
   "cell_type": "markdown",
   "id": "a602e1f0",
   "metadata": {
    "slideshow": {
     "slide_type": "subslide"
    },
    "tags": [
     "remove_cell"
    ]
   },
   "source": [
    "To show that there is no injective map from $\\Rr$ to $\\Nn$, first we argue that the map from $2^{\\Nn}$ into $\\Rr$ (in fact into $[0,1/9]$) defined by\n",
    "$$a_1,a_2,\\ldots \\stackrel{\\Phi}{\\longmapsto} 0.a_1a_2\\cdots = \\sum_{k \\ge 1} \\dfrac{a_k}{10^k}$$\n",
    "is injective. "
   ]
  },
  {
   "cell_type": "markdown",
   "id": "505f0bbe",
   "metadata": {
    "slideshow": {
     "slide_type": "fragment"
    },
    "tags": [
     "remove_cell"
    ]
   },
   "source": [
    "This is because if $(a_k) \\neq (b_k)$, then one of $0.a_1a_2\\cdots$, $0.b_1b_2\\cdots$ is bigger (hence not equal) than the other depending on whether $a_n > b_n$ or $b_n > a_n$ where $n$ is the first index that these two sequences differ."
   ]
  },
  {
   "cell_type": "markdown",
   "id": "a19f01c8",
   "metadata": {
    "slideshow": {
     "slide_type": "fragment"
    },
    "tags": [
     "remove_cell"
    ]
   },
   "source": [
    "This shows that $|2^{\\Nn}| \\le |\\Rr|$. So, if $|\\Rr| \\le |\\Nn|$, we would have $|2^{\\Nn}| \\le |\\Nn|$, contradicting $|\\Nn| < |2^{\\Nn}|$ (Cantor)."
   ]
  }
 ],
 "metadata": {
  "celltoolbar": "Slideshow",
  "kernelspec": {
   "display_name": "SageMath 9.3",
   "language": "sage",
   "name": "sagemath"
  },
  "language_info": {
   "codemirror_mode": {
    "name": "ipython",
    "version": 3
   },
   "file_extension": ".py",
   "mimetype": "text/x-python",
   "name": "python",
   "nbconvert_exporter": "python",
   "pygments_lexer": "ipython3",
   "version": "3.9.2"
  }
 },
 "nbformat": 4,
 "nbformat_minor": 5
}
