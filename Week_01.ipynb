{
 "cells": [
  {
   "cell_type": "markdown",
   "id": "fc3c0c0a",
   "metadata": {
    "slideshow": {
     "slide_type": "notes"
    }
   },
   "source": [
    "$\\newcommand{\\Rr}{\\mathbb{R}}$\n",
    "$\\newcommand{\\Nn}{\\mathbb{N}}$\n",
    "$\\newcommand{\\Zz}{\\mathbb{Z}}$\n",
    "$\\newcommand{\\Qq}{\\mathbb{Q}}$"
   ]
  },
  {
   "cell_type": "markdown",
   "id": "fa2b993c",
   "metadata": {
    "slideshow": {
     "slide_type": "slide"
    }
   },
   "source": [
    "# The real line $\\Rr$ and its subsets"
   ]
  },
  {
   "cell_type": "markdown",
   "id": "776d7ffd",
   "metadata": {
    "slideshow": {
     "slide_type": "subslide"
    }
   },
   "source": [
    "**Notation** \n",
    "\n",
    "* $\\Nn = \\{1,2,3,\\ldots \\}$. In this course, the **natural numbers starts with $1$ not $0$**. \n",
    "\n",
    "* $\\Zz$ is the set of integers and $\\Qq$ is the set of rational numbers.\n",
    " \n",
    "* $A \\subset B$ in the textbook means $A$ is a subset of $B$ and $A \\subsetneq B$ means $A$ is a proper subset of $B$, i.e. $A \\subset B$ and $A \\neq B$.  \n",
    "\n",
    "* We will use $(a_n)$ instead of the textbook notation $\\{a_n\\}$ to denote sequences because we would like to reserve $\\lbrace \\ldots \\rbrace$ strictly for sets. "
   ]
  },
  {
   "cell_type": "markdown",
   "id": "f665814b",
   "metadata": {
    "slideshow": {
     "slide_type": "slide"
    }
   },
   "source": [
    "Find the **definitions** from Section 0.3 of the textbook\n",
    "\n",
    "1. **injective**, **surjective**, **bijective**\n",
    "1. For function $f \\colon X \\to Y$, and $A \\subset X, B \\subset Y$. What are $f(A)$ and $f^{-1}(B)$? \n",
    "1. For sets $A$ and $B$, What does is mean by $|A| = |B|$? What does it mean by $|A| \\le |B|$? \n",
    "1. For a set $A$, what is the **power set** of $A$?\n",
    "\n",
    "Give examples of each of these concepts."
   ]
  },
  {
   "cell_type": "markdown",
   "id": "04a467b3",
   "metadata": {
    "slideshow": {
     "slide_type": "slide"
    }
   },
   "source": [
    "**Example.** $\\Nn \\cup \\{0\\}$ is countable."
   ]
  },
  {
   "cell_type": "markdown",
   "id": "212bf20b",
   "metadata": {
    "slideshow": {
     "slide_type": "fragment"
    }
   },
   "source": [
    "**Proof.** The map $n \\mapsto n-1$ is a bijection from $\\Nn$ to $\\Nn \\cup \\{0\\}$ (the inverse being $m \\mapsto m+1$). "
   ]
  },
  {
   "cell_type": "markdown",
   "id": "cf1e4c2a",
   "metadata": {
    "slideshow": {
     "slide_type": "fragment"
    }
   },
   "source": [
    "Certainly, there are many other bijections between these sets. For instance,\n",
    "$$\n",
    "n \\mapsto \n",
    "\\begin{cases}\n",
    "n & \\text{if $n$ is odd} \\\\\n",
    "n-2 & \\text{if $n$ is even}\n",
    "\\end{cases}\n",
    "$$\n",
    "is another one."
   ]
  },
  {
   "cell_type": "markdown",
   "id": "60b63d78",
   "metadata": {},
   "source": [
    "**Proposition** $\\Nn \\times 2$ is countable.\n",
    "\n",
    "Remark. Here $2 =\\{0,1\\}$. More generally, for $m\\in \\Nn$, we can regard $m$ as the set $\\{0,1,\\cdots m-1\\}$."
   ]
  },
  {
   "cell_type": "markdown",
   "id": "e7bc823a",
   "metadata": {},
   "source": [
    "**Proof.** One checks that the map\n",
    "$$\n",
    "(n,i) \\mapsto \n",
    "\\begin{cases}\n",
    "2n & \\text{if}\\ i=0 \\\\\n",
    "2n-1 & \\text{if}\\ i=1.\n",
    "\\end{cases}\n",
    "$$\n",
    "\n",
    "is a bijection from $\\Nn \\times 2$ to $\\Nn$."
   ]
  },
  {
   "cell_type": "markdown",
   "id": "babdae0d",
   "metadata": {
    "slideshow": {
     "slide_type": "slide"
    }
   },
   "source": [
    "**Proposition.** $\\Nn^2$ is countable. "
   ]
  },
  {
   "cell_type": "markdown",
   "id": "9b1b910e",
   "metadata": {
    "slideshow": {
     "slide_type": "fragment"
    }
   },
   "source": [
    "**Proof.** Count by \"diagonals\" (see p.18 of the textbook). (Find a formular for the bijection)."
   ]
  },
  {
   "cell_type": "markdown",
   "id": "f08ca2d8",
   "metadata": {
    "slideshow": {
     "slide_type": "subslide"
    }
   },
   "source": [
    "**Exercise.** Show that $\\Nn^2 \\cup \\{(0,0)\\}$ is countable."
   ]
  },
  {
   "cell_type": "markdown",
   "id": "3c546cc5",
   "metadata": {
    "slideshow": {
     "slide_type": "slide"
    }
   },
   "source": [
    "The key result that makes comparing cardinality easier is:\n",
    "\n",
    "**Theorem** (Cantor-Bernstein-Schr&ouml;der)\n",
    "For sets $A$ and $B$, if $|A| \\le |B|$ and $|B| \\le |A|$ then $|A| =|B|$.\n",
    "\n",
    "**Proof.** I list two proofs. One is [here](https://www-users.cse.umn.edu/~garrett/m/algebra/cantor_schroeder_bernstein.pdf) and the other is [here](https://math.uchicago.edu/~tghyde/Hyde%20--%20A%20dynamical%20proof%20of%20the%20Cantor-Bernstein%20theorem.pdf)."
   ]
  },
  {
   "cell_type": "markdown",
   "id": "1ff4db69",
   "metadata": {},
   "source": [
    "**Proposition.** The union of a countable family of countable sets is countable.\n",
    "\n",
    "**Proof.** Let $A_1,A_2, \\cdots $ be countable sets. If the union $\\bigcup_{i \\in \\Nn} A_i$ is finite then we are done. So, assume the union is infinite.\n",
    "\n",
    "Sending $a \\in \\bigcup_{i \\in \\Nn} A_i$ to $(a,j)$ where $j$ is the smallest index so that $a \\in A_j$ is an injection from $\\bigcup A_i$ into $\\bigcup A_i \\times \\{i\\}$. Let $f_i$ be an injection from $A_i$ into $\\Nn$. Now one checks that $(a,j) \\to (f_j(a),j)$ is an injection from $\\bigcup A_i \\times \\{i\\}$ to $\\Nn^2$ which is countable. Hence $\\bigcup A_i$ is countable by the CBS theorem."
   ]
  },
  {
   "cell_type": "markdown",
   "id": "2dbfcfc5",
   "metadata": {
    "slideshow": {
     "slide_type": "slide"
    }
   },
   "source": [
    "As an application of the CBS theorem, let us argue that\n",
    "\n",
    "**Proposition.** $\\Qq$ is countable (consequently $\\Zz$ is countable)."
   ]
  },
  {
   "cell_type": "markdown",
   "id": "6b1c823c",
   "metadata": {
    "slideshow": {
     "slide_type": "fragment"
    }
   },
   "source": [
    "**Proof.** The map $n \\mapsto n/1$ is injective so $|\\Nn| \\le |\\Qq|$. On the other hand, the map \n",
    "$$\n",
    "r \\longmapsto\n",
    "\\begin{cases}\n",
    "(m,n) & \\text{if } r =\\dfrac{m}{n}, m \\neq 0, n > 0, m,n\\  \\text{coprime} \\\\\n",
    "(0,0) &\\text{if } r = 0.\n",
    "\\end{cases}\n",
    "$$\n",
    "is injective from $\\Qq$ to $\\Nn \\cup \\{(0,0)\\}$. And so $|\\Qq| \\le |\\Nn\\cup \\{(0,0)\\}| = |\\Nn|$. Thus, $\\Qq$ is countable by the CBS theorem."
   ]
  },
  {
   "cell_type": "markdown",
   "id": "c41c95b2",
   "metadata": {},
   "source": [
    "## Power Sets"
   ]
  },
  {
   "cell_type": "markdown",
   "id": "94c39697",
   "metadata": {
    "slideshow": {
     "slide_type": "slide"
    }
   },
   "source": [
    "Let $X$ and $Y$ be sets. We use $P(X)$ to denote the power set of $X$ and use $Y^X$ to denote the set of functions from $X$ to $Y$. "
   ]
  },
  {
   "cell_type": "markdown",
   "id": "247ceac1",
   "metadata": {
    "slideshow": {
     "slide_type": "fragment"
    }
   },
   "source": [
    "The **indicator function** of a subset $A$ of $X$, denoted by $1_A^X$ (or simply $1_A$ if $X$ is understood), is the function from $X$ to $2$ defined by \n",
    "$$\n",
    "1_A(x) = \\begin{cases} 1 &\\text{if}\\ x \\in A \\\\ 0 &\\text{if}\\ x \\notin A \\end{cases}\n",
    "$$"
   ]
  },
  {
   "cell_type": "markdown",
   "id": "8e777af8",
   "metadata": {
    "slideshow": {
     "slide_type": "subslide"
    }
   },
   "source": [
    "For example, $X = \\{a,b,c\\}$ and $A = \\{a,c\\}$. Then $1_A$ is the function defined by $1_A(a) = 1, 1_A(b) = 0, 1_A(c) = 1$. "
   ]
  },
  {
   "cell_type": "markdown",
   "id": "3071924d",
   "metadata": {
    "slideshow": {
     "slide_type": "fragment"
    }
   },
   "source": [
    "On the other hand, for any $f \\in 2^X$, $f^{-1}(1)$ is a subset of $X$. E.g. say $f(a) = 0, f(b) = 1, f(c) =1$, then $f^{-1}(1) = \\{b,c\\}$."
   ]
  },
  {
   "cell_type": "markdown",
   "id": "b37b9144",
   "metadata": {
    "slideshow": {
     "slide_type": "fragment"
    }
   },
   "source": [
    "**Exercise.** Check that the maps (between $P(X)$ and $2^X$)\n",
    "\n",
    "$$A \\stackrel{\\Phi}{\\mapsto} 1_A,\\quad  f\\stackrel{\\Psi}{\\mapsto} f^{-1}(1).$$ \n",
    "\n",
    "are inverse of each other"
   ]
  },
  {
   "cell_type": "markdown",
   "id": "81484a4a",
   "metadata": {
    "slideshow": {
     "slide_type": "fragment"
    }
   },
   "source": [
    "Consequently, $|P(X)| = |2^X|$."
   ]
  },
  {
   "cell_type": "markdown",
   "id": "57643515",
   "metadata": {
    "slideshow": {
     "slide_type": "slide"
    }
   },
   "source": [
    "**Theorem.**(Cantor) $|X| < |2^X|.$"
   ]
  },
  {
   "cell_type": "markdown",
   "id": "e0174fe2",
   "metadata": {
    "slideshow": {
     "slide_type": "fragment"
    }
   },
   "source": [
    "**Proof.** It is clear that $x \\mapsto 1_{\\{x\\}}$ is an injection from $X$ to $2^X$. It remains to show that $|X| \\neq |2^X|$. \n",
    "\n",
    "Suppose on the contrary that there is a bijection $x \\stackrel{\\Phi}{\\mapsto} \\Phi_x$ from $X$ to $2^X$. \n",
    "\n",
    "In particular, $\\Phi$ is also sujective so the map $1 - \\Phi_x(x)$ from $X$ to $2$ must be $\\Phi_a$ for some $a \\in X$. \n",
    "\n",
    "But this is absurd because clearly $1-\\Phi_a(a) \\neq \\Phi_a(a)$."
   ]
  },
  {
   "cell_type": "markdown",
   "id": "b5508ba6",
   "metadata": {
    "slideshow": {
     "slide_type": "slide"
    }
   },
   "source": [
    "**Corollary.** $\\Rr$ is uncountable. (see p.39 of the textbook for another proof.)"
   ]
  },
  {
   "cell_type": "markdown",
   "id": "508b8866-f372-42be-a563-305dd5215b90",
   "metadata": {
    "slideshow": {
     "slide_type": "fragment"
    }
   },
   "source": [
    "**Proof.** $\\Nn$ is a subset of $\\Rr$, so $|\\Nn| \\le |\\Rr|$. To show that there is no injective map from $\\Rr$ to $\\Nn$, first we argue that the map from $2^{\\Nn}$ into $\\Rr$ (in fact into $[0,1/9]$) defined by\n",
    "$$(a_n) = a_1,a_2,\\ldots \\stackrel{\\Phi}{\\longmapsto} 0.a_1a_2\\cdots = \\sum_{k \\ge 1} \\dfrac{a_k}{10^k}$$\n",
    "is injective. "
   ]
  },
  {
   "cell_type": "markdown",
   "id": "505f0bbe",
   "metadata": {
    "slideshow": {
     "slide_type": "fragment"
    }
   },
   "source": [
    "Suppose $a = (a_k) \\neq b=(b_k)$ (as binary sequences). Let $n$ be the smallest index so that $a_n \\neq b_n$. Thus,\n",
    "\n",
    "$$|\\Phi(a) - \\Phi(b)| \\ge \\frac{1}{10^n}\\left(1-\\frac{1}{9}\\right) > 0.$$ \n",
    "\n",
    "That means $\\Phi(a) \\neq \\Phi(b)$ and hence $\\Phi$ is injective."
   ]
  },
  {
   "cell_type": "markdown",
   "id": "a19f01c8",
   "metadata": {
    "slideshow": {
     "slide_type": "fragment"
    }
   },
   "source": [
    "This shows that $|2^{\\Nn}| \\le |\\Rr|$. So, if $|\\Rr| \\le |\\Nn|$, then we would have $|2^{\\Nn}| \\le |\\Nn|$, contradicting $|\\Nn| < |2^{\\Nn}|$ (Cantor)."
   ]
  },
  {
   "cell_type": "markdown",
   "id": "ba4c8259",
   "metadata": {},
   "source": [
    "Since union of two countable see is countable, the set of irrational numbers $\\Rr \\setminus \\Qq$ is uncountable."
   ]
  },
  {
   "cell_type": "markdown",
   "id": "dbd5cba6",
   "metadata": {},
   "source": [
    "## Intervals"
   ]
  },
  {
   "cell_type": "markdown",
   "id": "d52804fe",
   "metadata": {},
   "source": [
    "**Definition.** A subset $I$ of $\\Rr$ is an **interval** if $I$ has at least two points and for any $x,y$ in $I$ and $x < z < y$, $z \\in I$."
   ]
  },
  {
   "cell_type": "markdown",
   "id": "db1c6b3d",
   "metadata": {},
   "source": [
    "In other words, a subset $I$ of $\\Rr$ with at least two points if an interval if $I$ contains every number in between any two of its members. "
   ]
  },
  {
   "cell_type": "markdown",
   "id": "03a5816c",
   "metadata": {},
   "source": [
    "Every interval of $\\Rr$ is of one of the following types (see p.38)\n",
    "\n",
    "\n",
    "* $(a,b) = \\{x \\in \\Rr \\colon a < x < b\\}$\n",
    "* $(a,b] = \\{x \\in \\Rr \\colon a < x \\le b\\}$\n",
    "* $[a,b) = \\{x \\in \\Rr \\colon a \\le x < b\\}$\n",
    "* $[a,b] = \\{x \\in \\Rr \\colon a \\le x \\le b\\}$\n",
    "* $(a, \\infty) = \\{x \\in \\Rr \\colon a < x \\}$\n",
    "* $[a, \\infty) = \\{x \\in \\Rr \\colon a \\le x \\}$\n",
    "* $(-\\infty, b) = \\{x \\in \\Rr \\colon x < b \\}$\n",
    "* $(-\\infty, b] = \\{x \\in \\Rr \\colon x \\le b\\}$\n",
    "* $(-\\infty, \\infty) = \\Rr$"
   ]
  },
  {
   "cell_type": "markdown",
   "id": "59a101da",
   "metadata": {},
   "source": [
    "Often intervals are specified by inequalities in the following ways: \n",
    "\n",
    "For $c,r \\in \\Rr$ and $r > 0$, \n",
    "\n",
    "$|x-c| < r$ specifies the interval $(c-r,c+r)$.\n",
    "\n",
    "$|x-c| \\le r$ specifies $[c-r,c+r]$."
   ]
  },
  {
   "cell_type": "markdown",
   "id": "1b548379",
   "metadata": {},
   "source": [
    "**Proposition.** Every interval has the same cardinality of $\\Rr$."
   ]
  },
  {
   "cell_type": "markdown",
   "id": "f786b1ea",
   "metadata": {},
   "source": [
    "**Proof.** Every interval is a subset of $\\Rr$ and contains an open interval $(a,b)$ for some $a<b$. \n",
    "Thus, by the CBS theorem, it suffices to show that $|(a,b)| = |\\Rr|$.  \n",
    "\n",
    "To see that, one simply checks that the map  $x \\mapsto (x-c)/r$ where $c = (b+a)/2$ and $r = (b-a)/2$ is a bijection from $(a,b) \\to (-1,1)$ and the $\\tan((\\pi/2)x)$ is a bijection from $(-1,1)$ to $\\Rr$. This completes the proof."
   ]
  },
  {
   "cell_type": "markdown",
   "id": "b3101ddc",
   "metadata": {},
   "source": [
    "It is much harder to give an explicit bijection, for instance, between $[-1,1]$ and $[1,1)$. "
   ]
  },
  {
   "cell_type": "markdown",
   "id": "d8635dad",
   "metadata": {},
   "source": [
    "**Proposition.**  An intersection of two intervals that contains at least two points is an interval. "
   ]
  },
  {
   "cell_type": "markdown",
   "id": "f158dfee",
   "metadata": {},
   "source": [
    "**Proof.** Suppose $I, J$ are intervals and $I \\cap J$ has at least two points. Pick any $x,y \\in I \\cap J$. Then $[x,y] \\subset I$ since both $x$ and $y$ are in $I$. Likewise, since both $x$ and $y$ are in $J$, $[x,y] \\subset J$. So, we conclude that $[x,y] \\subset I \\cap J$. "
   ]
  },
  {
   "cell_type": "markdown",
   "id": "3a672220",
   "metadata": {},
   "source": [
    "**Proposition.** Union of two overlapping interval is an interval."
   ]
  },
  {
   "cell_type": "markdown",
   "id": "3d21bf4c",
   "metadata": {},
   "source": [
    "**Proof.** Suppose $I$ and $J$ are intervals, $a \\in I \\cap J$. Clearly, $I \\cup J$ contains at least two points. We just need to show that for any $x,y \\in I \\cup J$ with $x < y$, $[x,y] \\subset I \\cup J$. If $x,y$ belong to the same interval, say $I$, then $[x,y] \\subset I \\subset I \\cup J$. So suppose $x,y$ are in different intervals, say $x \\in I$ and $y \\in J$. Then $a$ must be between $x$ and $y$, otherwise either $[x,y] \\subset [a,y] \\subset J$ or $\\subset [x,a] \\subset I$, but either case contradicts the assumption that $x,y$ are in different intervals. Thus, $x < a< y$ and $[x,a] \\subset I$, $[a,y] \\subset J$, hence $[x,y] = [x,a] \\cup [a,y] \\subset I \\cup J$."
   ]
  }
 ],
 "metadata": {
  "celltoolbar": "Tags",
  "kernelspec": {
   "display_name": "SageMath 9.6",
   "language": "sage",
   "name": "sagemath"
  },
  "language_info": {
   "codemirror_mode": {
    "name": "ipython",
    "version": 3
   },
   "file_extension": ".py",
   "mimetype": "text/x-python",
   "name": "python",
   "nbconvert_exporter": "python",
   "pygments_lexer": "ipython3",
   "version": "3.10.4"
  }
 },
 "nbformat": 4,
 "nbformat_minor": 5
}
