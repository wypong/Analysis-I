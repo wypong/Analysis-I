{
 "cells": [
  {
   "cell_type": "markdown",
   "metadata": {
    "slideshow": {
     "slide_type": "fragment"
    }
   },
   "source": [
    "$\\newcommand{\\Rr}{\\mathbb{R}}$\n",
    "$\\newcommand{\\Zz}{\\mathbb{Z}}$\n",
    "$\\newcommand{\\Nn}{\\mathbb{N}}$\n",
    "$\\newcommand{\\Qq}{\\mathbb{Q}}$\n",
    "$\\newcommand{\\ve}{\\varepsilon}$\n",
    "$\\newcommand{\\dp}[2]{\\langle #1, #2\\rangle}$\n",
    "$\\newcommand{\\va}{\\mathbf{a}}$\n",
    "$\\newcommand{\\vb}{\\mathbf{b}}$\n",
    "$\\newcommand{\\vc}{\\mathbf{c}}$\n",
    "$\\newcommand{\\vx}{\\mathbf{x}}$\n",
    "$\\newcommand{\\vy}{\\mathbf{y}}$\n",
    "$\\newcommand{\\vz}{\\mathbf{z}}$\n",
    "$\\newcommand{\\norm}[1]{\\left\\| #1 \\right\\|}$"
   ]
  },
  {
   "cell_type": "markdown",
   "metadata": {
    "slideshow": {
     "slide_type": "slide"
    }
   },
   "source": [
    "# Cauchy Sequences"
   ]
  },
  {
   "cell_type": "markdown",
   "metadata": {
    "slideshow": {
     "slide_type": "slide"
    }
   },
   "source": [
    "**Read Section 2.4.** Check your understanding against the following questions:\n",
    "\n",
    "* What is a Cauchy sequence? Give examples.\n",
    "* What means by an ordered field is complete?"
   ]
  },
  {
   "cell_type": "markdown",
   "metadata": {},
   "source": [
    "**Proposition.** A convergent sequence is Cauchy."
   ]
  },
  {
   "cell_type": "markdown",
   "metadata": {},
   "source": [
    "**Proof.** Suppose $(x_n)$ is a convergent sequence. Let $L$ be its limit. Then for any $\\varepsilon >0$, then exists $N \\in \\mathbb{N}$ such that $|x_k-L| < \\varepsilon/2$ for any $k \\ge N$. Thus, if both $n,m \\ge N$, then $|x_n-x_m| \\le |x_n-L| + |x_m -L| < \\varepsilon/2 + \\varepsilon/2 = \\varepsilon$."
   ]
  },
  {
   "cell_type": "markdown",
   "metadata": {},
   "source": [
    "**Lemma.** A Cauchy sequence is bounded. "
   ]
  },
  {
   "cell_type": "markdown",
   "metadata": {},
   "source": [
    "**Proof.** Suppose $(x_n)$ is Cauchy. Then there exists $N$, such that $|x_n -x_m| < 1$ for any $n, m \\ge N$. In particular, $|x_n -X_N| M 1$ and hence $|x_n| < |x_N|+1$ for all $n \\ge N$. So, the sequence is bounded by the maximum of $\\{|x_1|,\\ldots, |x_{N-1}|, |x_N|+1\\}$."
   ]
  },
  {
   "cell_type": "markdown",
   "metadata": {},
   "source": [
    "**Theorem (Completeness of $\\mathbb{R}$).** Every Cauchy sequence of real numbers converges."
   ]
  },
  {
   "cell_type": "markdown",
   "metadata": {},
   "source": [
    "**Proof.** Let $(x_n)$ be a Cauchy sequence of real numbers. By the lemma above $(x_n)$ is bounded and so, by the **Bozanlo-Weierstrass theorem**, it has a convergent subsequence $(x_{n_k})$. Let $L$ be its limit. \n",
    "\n",
    "Then for any $\\varepsilon > 0$, there exist $N_1,N_2 \\in \\mathbb{N}$, so that whenever $n,m \\ge N_1$, $|x_n-x_m| < \\varepsilon/2$ and whenever $k \\ge N_2$, $|x_{n_k}-L|<\\varepsilon/2$. Let $N = \\max\\{N_1,N_2\\}$. So, for any $n \\ge N$, take $m = n_N$ and $k = N$ then $m \\ge N \\ge N_1$ and $k \\ge N \\ge N_2$. Thus,\n",
    "\n",
    "$$|x_n-L| \\le |x_n- x_{n_N}| + |x_{n_N}-L| < \\varepsilon.$$ \n",
    "\n",
    "This shows that $(x_n)$ is convergent."
   ]
  },
  {
   "cell_type": "markdown",
   "metadata": {},
   "source": [
    "**Remarks.**\n",
    "\n",
    "* Completeness of $\\mathbb{R}$ is equivalent to $\\mathbb{R}$ having the least-upper-bound property.\n",
    "\n",
    "* The importance of completeness is that we can show that some real sequences converge with out knowning explicitly the limit.\n",
    "\n",
    "* A metric space is **complete** if every Cauchy sequence converges. "
   ]
  },
  {
   "cell_type": "markdown",
   "metadata": {},
   "source": [
    "## Appendix"
   ]
  },
  {
   "cell_type": "markdown",
   "metadata": {},
   "source": [
    "The sequence $(\\tan(n))$ is divergent."
   ]
  },
  {
   "cell_type": "markdown",
   "metadata": {},
   "source": [
    "**Proof.** If $\\tan(n) \\to L$ then so is $\\tan(n+1)$. Since $\\pi$ is irrational, so $\\tan(n+1)$ is defined and is equal to $\\dfrac{\\tan(n) + \\tan(1)}{1-\\tan(n)\\tan(1)}$ for every $n$. Thus, $\\tan(n+1)(1-\\tan(n)\\tan(1)) = \\tan(n) - \\tan(1)$ for all $n$. Letting $n \\to \\infty$, we get $L(1-L\\tan(1)) = 1+L$ and so $L^2 = -1$ since $\\tan(1) \\neq 0$, a contradiction. Therefore, $(\\tan(n))$ diverges."
   ]
  },
  {
   "cell_type": "markdown",
   "metadata": {},
   "source": [
    "Using the same idea, we can give a shorter but less geometric proof of the divergence of $(\\sin(n))$.\n",
    "\n",
    "Again, suppose on the contrary that $\\sin(n) \\to L$. Then $\\sin(n+1)$ and $\\sin(n-1)$ also tends to $L$ as $n \\to \\infty$. Consider the identities,\n",
    "\\begin{align*}\n",
    "\\sin(n+1) - \\sin(n-1) &\\equiv 2\\cos(n)\\sin(1) \\\\\n",
    "\\sin(n+1) + \\sin(n-1) &\\equiv 2\\sin(n)\\cos(1) \\\\\n",
    "\\sin^2(n) +\\cos^2(n) &\\equiv 1\n",
    "\\end{align*}\n",
    "By letting $n \\to \\infty$, it follows from the 1st one that $\\cos(n) \\to 0$ and from 2nd one that that $L = 0$. And consequently, from the 3rd identity that $0 = 1$ which is absurd. "
   ]
  }
 ],
 "metadata": {
  "celltoolbar": "Tags",
  "kernelspec": {
   "display_name": "SageMath 9.6",
   "language": "sage",
   "name": "sagemath"
  },
  "language_info": {
   "codemirror_mode": {
    "name": "ipython",
    "version": 3
   },
   "file_extension": ".py",
   "mimetype": "text/x-python",
   "name": "python",
   "nbconvert_exporter": "python",
   "pygments_lexer": "ipython3",
   "version": "3.10.4"
  }
 },
 "nbformat": 4,
 "nbformat_minor": 4
}
