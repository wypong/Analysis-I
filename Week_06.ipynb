{
 "cells": [
  {
   "cell_type": "markdown",
   "metadata": {
    "slideshow": {
     "slide_type": "fragment"
    }
   },
   "source": [
    "$\\newcommand{\\Rr}{\\mathbb{R}}$\n",
    "$\\newcommand{\\Zz}{\\mathbb{Z}}$\n",
    "$\\newcommand{\\Nn}{\\mathbb{N}}$\n",
    "$\\newcommand{\\Qq}{\\mathbb{Q}}$\n",
    "$\\newcommand{\\ve}{\\varepsilon}$\n",
    "$\\newcommand{\\dp}[2]{\\langle #1, #2\\rangle}$\n",
    "$\\newcommand{\\va}{\\mathbf{a}}$\n",
    "$\\newcommand{\\vb}{\\mathbf{b}}$\n",
    "$\\newcommand{\\vc}{\\mathbf{c}}$\n",
    "$\\newcommand{\\vx}{\\mathbf{x}}$\n",
    "$\\newcommand{\\vy}{\\mathbf{y}}$\n",
    "$\\newcommand{\\vz}{\\mathbf{z}}$\n",
    "$\\newcommand{\\norm}[1]{\\left\\| #1 \\right\\|}$\n",
    "$\\newcommand{\\ds}{\\displaystyle}$"
   ]
  },
  {
   "cell_type": "markdown",
   "metadata": {
    "slideshow": {
     "slide_type": "slide"
    }
   },
   "source": [
    "# Some convergence tests for sequences"
   ]
  },
  {
   "cell_type": "markdown",
   "metadata": {
    "slideshow": {
     "slide_type": "slide"
    }
   },
   "source": [
    "**Read Section 2.2**. Also, review the materials about sequences from Calculus II. \n",
    "\n",
    "Check your understanding against the following questions:\n",
    "\n",
    "* For $c > 0$, what is $\\lim c^n$? (there are two cases to consider).\n",
    "* What is the ratio test for sequences?\n"
   ]
  },
  {
   "cell_type": "markdown",
   "metadata": {},
   "source": [
    "Let $P$ be a property of the real numbers (e.g. nonnegative), we say that **a sequence of real numbers is $P$** if every term of the sequence has that property."
   ]
  },
  {
   "cell_type": "markdown",
   "metadata": {},
   "source": [
    "**Proposition 1.** Let $(a_n)$ be a nonegative null sequence and $0 \\le |x_n| \\le a_n$, then $(x_n)$ is null.\n",
    "More generally, if $0 \\le |x_n-L| \\le a_n$ then $x_n \\to L$.\n",
    "\n",
    "**Proof.** Squeeze Lemma."
   ]
  },
  {
   "cell_type": "markdown",
   "metadata": {},
   "source": [
    "**Proposition 2.** The sequence $(c^n)$ either converges to $0$ if $0 < c <1$ or unbounded if $c > 1$."
   ]
  },
  {
   "cell_type": "markdown",
   "metadata": {},
   "source": [
    "**Proof.** First, suppose $0 < c < 1$. Then \n",
    "$$ c > c^2 > c^3 > \\cdots $$\n",
    "So, $(c^n)$ is convergent because it is a decreasing sequence of real numbers bounded below by $0$ (Week 5 Theorem 3 Bounded Convergence Theorem). \n",
    "\n",
    "Let $L$ be the limit. Then on the one hand, the sequence $c(c^n) = (c^{n+1})$ has limit $cL$, on the other hand, it is simply $(c^n)$ with the first term dropped, so it must have the same limit $L$. Thus, by the uniqueness of limit, $cL =L$. That is $L(1-c) = 0$ and since $0 < c < 1$, $1-c \\neq 0$ and so, we must have $L = 0$.\n",
    "\n",
    "Now if $c > 1$, then $0 < 1/c < 1$. And so, $1/c^n \\to 0$. Consequently, for any $B > 0$, there is an $N$ so that $1/c^n < 1/B$, i.e. $B < c^n$ for all $n \\ge N$. This shows that $(c^n)$ is unbounded."
   ]
  },
  {
   "cell_type": "markdown",
   "metadata": {},
   "source": [
    "**Proposition 3. (Ratio test)** Let $(x_n)$ be a sequence with $x_n \\neq 0$ and $L:=\\lim |x_{n+1}|/|x_n|$ exists. Then $(x_n)$ is null if $L < 1$ or unbounded if $L > 1$."
   ]
  },
  {
   "cell_type": "markdown",
   "metadata": {},
   "source": [
    "If $L =1$, the test is inconclusive. (consider the two sequences $(1/n)$, and $((-1)^n)$"
   ]
  },
  {
   "cell_type": "markdown",
   "metadata": {},
   "source": [
    "**Proof.** Suppose $L < 1$. Since $\\left(\\dfrac{|x_{n+1}|}{|x_n|}\\right)$ is a convergent sequence of non-negative numbers, its limit $L$ is nonnegative as well (Week 5 Proposition 8). Thus $0 \\le L < c:=\\dfrac{1+L}{2} <1$ and there exists $N$ such that whenever $n \\ge N$,\n",
    "$$ \n",
    "\\frac{|x_{n+1}|}{|x_n|} < c.\n",
    "$$\n",
    "Consequently, for any $k \\in \\Nn$, \n",
    "$$0 \\le |x_{N+k}| < c|x_{N+k-1}| < \\cdots < c^{k}|x_{N}| \\to 0|x_{N}| = 0.$$ \n",
    "Therefore, $(x_n)$ is null. The case $L >1$ can be proved similarly, left as exercise. "
   ]
  },
  {
   "cell_type": "markdown",
   "metadata": {},
   "source": [
    "For some interesting applications of the ratio test, read **Example 2.2.13 and 2.2.14**"
   ]
  },
  {
   "cell_type": "markdown",
   "metadata": {},
   "source": [
    "## The limits of some sequences"
   ]
  },
  {
   "cell_type": "markdown",
   "metadata": {},
   "source": [
    "**1.** $\\ds \\lim_{n \\to \\infty} \\left(1 + \\frac{1}{n}\\right)^n$ exists."
   ]
  },
  {
   "cell_type": "markdown",
   "metadata": {},
   "source": [
    "**Proof.** We contend that $a_n := \\left(1+ \\frac{1}{n}\\right)^n$ ($n \\in \\Nn$) form an increasing sequence that is bounded above. "
   ]
  },
  {
   "cell_type": "markdown",
   "metadata": {},
   "source": [
    "It follows from the [Binomial theorem](https://en.wikipedia.org/wiki/Binomial_theorem) that \n",
    "$$\n",
    "a_n = \\sum_{k=0}^n \\binom{n}{k}\\frac{1}{n^k}. \n",
    "$$\n",
    "Since $\\ds \\binom{n}{k}\\frac{1}{n^k} = \\frac{n(n-1)\\cdots (n-k+1)}{k!}\\frac{1}{n^k} < \\frac{1}{k!} \\le \\frac{1}{2^{k-1}}$ for all $k \\ge 1$, $\\ds a_n \\le 1 + \\sum_{k=1}^n \\frac{1}{2^{k-1}} = 1 + 2 = 3$."
   ]
  },
  {
   "cell_type": "markdown",
   "metadata": {},
   "source": [
    "Clearly for each $0 \\le k \\le n$, \n",
    "$$\n",
    "\\binom{n+1}{k}\\frac{1}{(n+1)^k} = \\frac{1}{k!}\\prod_{i=0}^k \\left(1 - \\frac{i}{n+1}\\right) \\ge \\frac{1}{k!}\\prod_{i=0}^k \\left(1 - \\frac{i}{n}\\right) = \\binom{n}{k}\\frac{1}{n^k}.\n",
    "$$\n",
    "So,\n",
    "$$ a_n = \\sum_{k=0}^n \\binom{n}{k}\\frac{1}{n^k} \\le \\sum_{k=0}^n \\binom{n+1}{k}\\frac{1}{(n+1)^k} < \\sum_{k=0}^{n+1} \\binom{n+1}{k}\\frac{1}{(n+1)^k} = a_{n+1}\n",
    "$$"
   ]
  },
  {
   "cell_type": "markdown",
   "metadata": {},
   "source": [
    "and this is the contention."
   ]
  },
  {
   "cell_type": "markdown",
   "metadata": {},
   "source": [
    "The limit above is approximately $2.718281828$ and is denoted by $e$. This definition of $e$ is elementary. However, in developing properties of the exponential function, it is often more flexible to use the following definition. "
   ]
  },
  {
   "cell_type": "markdown",
   "metadata": {},
   "source": [
    "We first define $\\ln(x)$ as $\\ds \\int_1^x \\frac{1}{t} dt$. Note that $\\ln(x)$ is a strictly increasing function (from $[1,\\infty)$ to $[0,\\infty)$) and hence its has an inverse. We denote it by $\\exp(x)$. Let $e$ be $\\exp(1)$, the value of $\\exp(x)$ at $1$. In other words, $e$ is the real number so that the area under the curve $y=1/x$ from $1$ to $e$ is $1$. We extend the domain of $\\exp(x)$ to $\\Rr$ by defining $\\ds e^x = \\frac{1}{e^{-x}}$ for $x < 0$. "
   ]
  },
  {
   "cell_type": "markdown",
   "metadata": {},
   "source": [
    "As an application, let us show that for any $c >0$, $\\ds f(x) = \\left(1+\\frac{c}{x}\\right)^x$ is increasing. In particular, (when $c=1$) this provides another proof that the sequence $\\ds \\left(\\left(1+\\frac{1}{n}\\right)^n \\right)$ is increasing."
   ]
  },
  {
   "cell_type": "markdown",
   "metadata": {},
   "source": [
    "Since $\\exp(x)$ is increasing, it sufficies to show that $\\ds \\ln f(x) = x\\ln\\left(1+ \\frac{c}{x}\\right)$ is increasing or equivalently that its derivative $\\ds \\ln \\left(1 + \\frac{c}{x}\\right) - \\frac{c}{x+c}$ is strictly positive. By recognizing $\\ds \\ln\\left(1 + \\frac{c}{x}\\right)$ as the area represented by $\\ds \\int_x^{x+c} \\frac{1}{t} dt$ and that $1/x$ is decreasing, the inequalities follow immediately:\n",
    "\n",
    "$$\n",
    "\\frac{c}{x+c} < \\ln\\left(1 + \\frac{c}{x}\\right) < \\frac{c}{x}. \n",
    "$$"
   ]
  },
  {
   "cell_type": "markdown",
   "metadata": {},
   "source": [
    "<img src=\"log.png\" width=800 height=600 />"
   ]
  },
  {
   "cell_type": "markdown",
   "metadata": {},
   "source": [
    "As a bouns, by multiplying $x$ throughout, we get\n",
    "\n",
    "$$\n",
    "\\frac{cx}{x+c} < x\\ln\\left(1 + \\frac{c}{x}\\right) < c. \n",
    "$$\n",
    "Letting $x \\to \\infty$, we have $\\ds \\lim_{x\\to \\infty}x\\ln\\left(1 + \\frac{c}{x}\\right) = \\lim_{x\\to \\infty} \\ln \\left(1 + \\frac{c}{x}\\right)^x = c$ by the squeeze lemma. Consequently, we show that $\\ds \\lim_{x\\to \\infty} \\left(1 + \\frac{c}{x}\\right)^x = e^c$ for $c >0$. The case $c < 0$ is left as an exercise. "
   ]
  },
  {
   "cell_type": "markdown",
   "metadata": {},
   "source": [
    "**2.** $n^a \\ll  b^n \\ll n! \\ll n^n$ ($a \\ge 0$ and $b > 1$). That is the ratio of one over the next tends to $0$ as $n \\to \\infty$."
   ]
  },
  {
   "cell_type": "markdown",
   "metadata": {},
   "source": [
    "Roughly speaking, that means any exponential function dominates any powers, factorial dominates any exponential function, and $n^n$ dominates factorial for all sufficiently large $n$."
   ]
  },
  {
   "cell_type": "markdown",
   "metadata": {},
   "source": [
    "**Proof.** $\\ds \\frac{(n+1)^a}{b^{n+1}}\\frac{b^n}{n^a} = \\left(1+\\frac{1}{n}\\right)^a \\frac{1}{b} \\to \\frac{1}{b} < 1$, so $\\ds \\frac{n^a}{b^n} \\to 0$ by the ratio test.\n",
    "\n",
    "Also $\\ds \\frac{b^{n+1}}{(n+1)!}\\frac{n!}{b^n} = \\frac{b}{n+1} \\to 0$, thus $\\ds \\frac{b^n}{n!} \\to 0$ by the ratio test. "
   ]
  },
  {
   "cell_type": "markdown",
   "metadata": {},
   "source": [
    "Finally, $\\ds 0 \\le \\frac{n!}{n^n} = 1 \\left(1 - \\frac{1}{n}\\right)\\left(1 - \\frac{2}{n}\\right)\\cdots \\frac{1}{n} < \\frac{1}{n}$. Thus, $\\dfrac{n!}{n^n} \\to 0$ by the squeeze lemma. "
   ]
  },
  {
   "cell_type": "markdown",
   "metadata": {},
   "source": [
    "**3.** $\\lim n^{1/n} = 1$."
   ]
  },
  {
   "cell_type": "markdown",
   "metadata": {},
   "source": [
    "**Proof.** Since $1 \\le n^{1/n}$ for all $n$, it suffices to so that for any $\\varepsilon >0$, $1 \\le n^{1/n} < 1+\\varepsilon$ for all $n$ sufficiently large. But this follows immediately from $\\dfrac{n}{(1+\\varepsilon)^n} \\to 0$ (any power is domainated by any exponential function)."
   ]
  }
 ],
 "metadata": {
  "kernelspec": {
   "display_name": "SageMath 9.6",
   "language": "sage",
   "name": "sagemath"
  },
  "language_info": {
   "codemirror_mode": {
    "name": "ipython",
    "version": 3
   },
   "file_extension": ".py",
   "mimetype": "text/x-python",
   "name": "python",
   "nbconvert_exporter": "python",
   "pygments_lexer": "ipython3",
   "version": "3.10.6"
  }
 },
 "nbformat": 4,
 "nbformat_minor": 4
}
