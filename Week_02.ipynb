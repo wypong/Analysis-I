{
 "cells": [
  {
   "cell_type": "markdown",
   "metadata": {
    "slideshow": {
     "slide_type": "skip"
    }
   },
   "source": [
    "$\\newcommand{\\Rr}{\\mathbb{R}}$"
   ]
  },
  {
   "cell_type": "markdown",
   "metadata": {
    "slideshow": {
     "slide_type": "slide"
    }
   },
   "source": [
    "# Basic Properties of $\\mathbb{R}$"
   ]
  },
  {
   "cell_type": "markdown",
   "metadata": {
    "slideshow": {
     "slide_type": "slide"
    }
   },
   "source": [
    "Read **Section 1.1** and answer the following questions:\n",
    "\n",
    "* What means by $S$ is an ordered set? \n",
    "* What means by a subset $E$ of $S$ to be bounded (above, below).\n",
    "* Let $A$ is a subset of an ordered set $S$, how are $\\sup A, \\inf A$ defined?\n",
    "* For an ordered set $S$, when does each of the following exist $\\sup \\emptyset$, $\\inf \\emptyset$, $\\sup S$, $\\inf S$?"
   ]
  },
  {
   "cell_type": "markdown",
   "metadata": {
    "slideshow": {
     "slide_type": "subslide"
    }
   },
   "source": [
    "* What is the least upper bound property for an ordered set?\n",
    "* What is a field? What is an ordered field?\n",
    "* For $A$ and $B$ subsets of a field $F$ and $c \\in F$, what do $A+B$, $AB$, $cA$ mean?\n",
    "* What is the relation between the set of upper (resp. lower) bounds of $A$ and set of lower (resp. upper) bounds of $-A$?"
   ]
  },
  {
   "cell_type": "markdown",
   "metadata": {},
   "source": [
    "## Axiomatic Approach of Real Numbers"
   ]
  },
  {
   "cell_type": "markdown",
   "metadata": {
    "slideshow": {
     "slide_type": "slide"
    }
   },
   "source": [
    "We follow the textbook and will not construct the set of real numbers from set theoretic principles. Instead, we will assume $(\\Rr, \\le , + , \\cdot, 0,1)$ is a structures that satisfies the properties (or axioms) listed in **Definition 1.1.5**. \n",
    "\n",
    "Here is an example of proving a statement using those axioms."
   ]
  },
  {
   "cell_type": "markdown",
   "metadata": {
    "slideshow": {
     "slide_type": "fragment"
    }
   },
   "source": [
    "**Proposition.** Show that the additive inverse of an element of a field is unique."
   ]
  },
  {
   "cell_type": "markdown",
   "metadata": {
    "slideshow": {
     "slide_type": "subslide"
    }
   },
   "source": [
    "**Proof.** Let $F$ be a field and $a \\in F$. Suppose $b$ and $b'$ both satisfy (A5) for $a$, i.e. $a+b = 0 = a+b'$."
   ]
  },
  {
   "cell_type": "markdown",
   "metadata": {
    "slideshow": {
     "slide_type": "subslide"
    }
   },
   "source": [
    "Then \n",
    "\\begin{align*}\n",
    "   b & = 0+b \\tag*{(A4)}\\\\\n",
    "     & = (a+b')+b \\tag*{since $0 = a+b'$}\\\\\n",
    "     & = (b'+a)+b \\tag*{(A2)} \\\\\n",
    "     & = b' + (a+b) \\tag*{(A3)} \\\\\n",
    "     & = b'+0 \\tag*{since $a+b=0$} \\\\\n",
    "     & = 0+b' \\tag*{(A2)} \\\\\n",
    "     & = b' \\tag*{(A4)}\n",
    "\\end{align*}\n"
   ]
  },
  {
   "cell_type": "markdown",
   "metadata": {
    "slideshow": {
     "slide_type": "slide"
    }
   },
   "source": [
    "**Exercise 1.1.4** Let $S$ be an ordered set. Let $B \\subset S$ be bounded. Let $A$ be a nonempty subset of $B$. Show that\n",
    "$$\n",
    "\\inf B \\le \\inf A \\le \\sup A \\le \\sup B\n",
    "$$"
   ]
  },
  {
   "cell_type": "markdown",
   "metadata": {
    "slideshow": {
     "slide_type": "fragment"
    }
   },
   "source": [
    "**Idea:** First, argue that all sups and infs in the statement exist. Because $A$ is nonempty, so $\\inf A \\le \\sup A$. Then argue that $\\sup B$ is an upper bound of $A$."
   ]
  },
  {
   "cell_type": "markdown",
   "metadata": {
    "slideshow": {
     "slide_type": "subslide"
    },
    "tags": [
     "remove_cell"
    ]
   },
   "source": [
    "**Proof.** Since $\\emptyset \\neq A \\subset B$, $B$ bounded, $B$ is also nonempty and $A$ is bounded. Thus, all the sups and infs in the statement exist."
   ]
  },
  {
   "cell_type": "markdown",
   "metadata": {
    "slideshow": {
     "slide_type": "fragment"
    }
   },
   "source": [
    "Pick any $a \\in A$, $\\inf A \\le a \\le \\sup A$. It remains to show that $\\sup A \\le \\sup B$ and $\\inf B \\le \\inf A$. Any element $x \\in A$ is an element of $B$, so $\\sup B \\ge x$. This shows that $\\sup B$ is also an upper bound of $A$. Therefore, $\\sup B \\ge \\sup A$. The proof for $\\inf B \\le \\inf A$ is similar, left as an exercise."
   ]
  },
  {
   "cell_type": "markdown",
   "metadata": {
    "slideshow": {
     "slide_type": "slide"
    }
   },
   "source": [
    "**Proposition.** Let $A$ be a subset of an ordered field. $\\sup(-A) = -\\inf A$ if either one exists."
   ]
  },
  {
   "cell_type": "markdown",
   "metadata": {
    "slideshow": {
     "slide_type": "fragment"
    },
    "tags": [
     "remove_cell"
    ]
   },
   "source": [
    "**Proof.** If $\\inf A$ exists, then $-\\inf A$ is an upper bound of $-A$. Moreover, if $u$ is an upper bound of $-A$ then $-u$ is a lower bound of $-(-A)=A$. Thus, $-u \\le \\inf A$, or equivalently $-\\inf A \\le u$. This shows that $-\\inf A = \\sup -A$. The proof of $\\sup -A$, if exists, equals $-\\inf A$ is similar, left as exercise."
   ]
  },
  {
   "cell_type": "markdown",
   "metadata": {
    "slideshow": {
     "slide_type": "slide"
    }
   },
   "source": [
    "**Exercise.** For each of the following sets of conditions, find a **nonempty subset** $A$ of $\\Rr$ that satisfies it.\n",
    "\n",
    "1. $\\inf A$ exists but $\\sup A$ does not.\n",
    "1. $\\sup A$ exists by $\\inf A$ does not.\n",
    "1. Both $\\sup A$ and $\\inf A$ exist and \n",
    "   1. $\\sup A \\notin A$ but $\\inf A \\in A$.\n",
    "   1. $\\sup A \\in A$ but $\\inf A \\notin A$.\n",
    "   1. both are in $A$.\n",
    "   1. neither is in $A$.\n",
    "1. Same as 3. but $A$ does not contain any interval."
   ]
  },
  {
   "cell_type": "markdown",
   "metadata": {},
   "source": [
    "The set of upper bounds of the emptyset in an ordered set $S$ is $S$ itself (everything is an upper bound of the emptyset). Likewise, $S$ is also the set of lower bounds of $\\emptyset$.\n",
    "\n",
    "Therefore, $\\sup \\emptyset$ is the least element of $S$ (if exists) and $\\inf \\emptyset$ is the greatest element of $S$ (if exists)."
   ]
  },
  {
   "cell_type": "markdown",
   "metadata": {},
   "source": [
    "**Examples** \n",
    "\n",
    "1. Let $S = \\Rr$. Then neither $\\sup \\emptyset$ nor $\\inf \\emptyset$ exists.\n",
    "\n",
    "2. Let $S = [0,1)$ equipped with the restriction of the order of real numbers. \n",
    "Then $\\sup \\emptyset = 0$ and $\\inf \\emptyset$ does not exist.\n",
    "\n",
    "3. Let $S = [0,1]$ equipped with the order induced from the order of the real numbers. \n",
    "Then $\\sup \\emptyset = 0$ and $\\inf \\emptyset =1$. "
   ]
  },
  {
   "cell_type": "markdown",
   "metadata": {},
   "source": [
    "Among the Axioms for Real number, the following separate it from the other ordered fields"
   ]
  },
  {
   "cell_type": "markdown",
   "metadata": {},
   "source": [
    "### Completeness Axiom. \n",
    "\n",
    "The ordered set $(\\Rr, \\le)$ has the least upper bound property."
   ]
  },
  {
   "cell_type": "markdown",
   "metadata": {},
   "source": [
    "The next proposition shows an application of the completeness Axiom. "
   ]
  },
  {
   "cell_type": "markdown",
   "metadata": {},
   "source": [
    "**Exercise.** Show that an interval of  ℝ  must have one of the 9 forms listed on p.38."
   ]
  },
  {
   "cell_type": "markdown",
   "metadata": {},
   "source": [
    "**Proof.** We only demonstrate one case. Let $I$ be an interval of $\\Rr$ that is bounded below but not above. Since $I \\neq \\emptyset$, $a:=\\inf I \\in \\Rr$ exist. Any $z > a$ is not a lower bound of $I$ so there must be some $x \\in I$ such that $x < z$. Since $I$ is not bounded above, so there is also some $y \\in I$ such that $z < y$. Thus, $z \\in I$ by the definition of interval. This shows that $(a,\\infty) \\subset I$. Certainly, $I$ cannot contains any number that is less than its infimum $a$. So $I=[a,\\infty)$ or $(a,\\infty)$ depending on whether $a \\in I$ or not."
   ]
  }
 ],
 "metadata": {
  "kernelspec": {
   "display_name": "SageMath 9.6",
   "language": "sage",
   "name": "sagemath"
  },
  "language_info": {
   "codemirror_mode": {
    "name": "ipython",
    "version": 3
   },
   "file_extension": ".py",
   "mimetype": "text/x-python",
   "name": "python",
   "nbconvert_exporter": "python",
   "pygments_lexer": "ipython3",
   "version": "3.10.4"
  }
 },
 "nbformat": 4,
 "nbformat_minor": 4
}
