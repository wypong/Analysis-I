{
 "cells": [
  {
   "cell_type": "markdown",
   "metadata": {
    "slideshow": {
     "slide_type": "fragment"
    }
   },
   "source": [
    "$\\newcommand{\\Rr}{\\mathbb{R}}$\n",
    "$\\newcommand{\\Zz}{\\mathbb{Z}}$\n",
    "$\\newcommand{\\Nn}{\\mathbb{N}}$\n",
    "$\\newcommand{\\Qq}{\\mathbb{Q}}$\n",
    "$\\newcommand{\\ve}{\\varepsilon}$\n",
    "$\\newcommand{\\dp}[2]{\\langle #1, #2\\rangle}$\n",
    "$\\newcommand{\\va}{\\mathbf{a}}$\n",
    "$\\newcommand{\\vb}{\\mathbf{b}}$\n",
    "$\\newcommand{\\vc}{\\mathbf{c}}$\n",
    "$\\newcommand{\\vx}{\\mathbf{x}}$\n",
    "$\\newcommand{\\vy}{\\mathbf{y}}$\n",
    "$\\newcommand{\\vz}{\\mathbf{z}}$\n",
    "$\\newcommand{\\norm}[1]{\\left\\| #1 \\right\\|}$\n",
    "$\\newcommand{\\ds}{\\displaystyle}$"
   ]
  },
  {
   "cell_type": "markdown",
   "metadata": {
    "slideshow": {
     "slide_type": "slide"
    }
   },
   "source": [
    "# Limits of functions"
   ]
  },
  {
   "cell_type": "markdown",
   "metadata": {
    "slideshow": {
     "slide_type": "slide"
    }
   },
   "source": [
    "**Read Section 3.1**. Check your understanding against the following questions:\n",
    "\n",
    "* What is a **cluster point** of a set of real numbers?\n",
    "* Suppose $c$ is a cluster point of the domain $S$ of a real-valued function $f$ and $L$ is a real number. \n",
    "  What means by $\\ds \\lim_{x \\to c} f(x) = L$? \n",
    "* What are one-sided limits?\n",
    "* What means by $\\ds \\lim_{x \\to c} f(x) = +\\infty$ (or $-\\infty$)?\n",
    "* What means by $\\ds \\lim_{x \\to \\infty} f(x) = L, + \\infty, -\\infty$? Same questions for $\\ds \\lim_{x \\to -\\infty} f(x)$. "
   ]
  },
  {
   "cell_type": "markdown",
   "metadata": {},
   "source": [
    "**Notation.** \n",
    "$$f(c^+):=\\lim_{x\\to c^+} f(x)\\quad \\text{and}\\quad f(c^-):=\\lim_{x \\to c^-} f(x).$$"
   ]
  },
  {
   "cell_type": "markdown",
   "metadata": {},
   "source": [
    "**Proposition 1.** (3.1.2) A real number $c$ is a cluster point of $S \\subseteq \\Rr$ if and only if $c$ is the limit of a sequence $(x_n)$ of elements of $S \\setminus \\{c\\}$.\n",
    "\n",
    "A **cluster point** is as known as an **accumulation point** or a **limit point**."
   ]
  },
  {
   "cell_type": "markdown",
   "metadata": {},
   "source": [
    "**Proposition. (Uniqueness of limit)** If $f(x) \\to L$ and $f(x) \\to L'$ as $x \\to c$ then $L = L'$."
   ]
  },
  {
   "cell_type": "markdown",
   "metadata": {},
   "source": [
    "**Proposition.** Let $f$ be a real-valued functions defined on $S \\subset \\mathbb{R}$ and $c$ is a cluster point of $S$. Then \n",
    "\n",
    "$$\\ds \\lim_{x \\to c} f(x) =L  \\iff \\lim_n f(x_n) = L$$\n",
    "\n",
    "for every sequence $(x_n)$ of elements of $S\\setminus\\{c\\}$ that tends to $c$."
   ]
  },
  {
   "cell_type": "markdown",
   "metadata": {},
   "source": [
    "Taking limits respect many operations, read Corollary 3.1.9--3.1.13."
   ]
  },
  {
   "cell_type": "markdown",
   "metadata": {},
   "source": [
    "**Proposition.** Let $f$ be a real-valued function defined on $S \\subset \\mathbb{R}$ and $c$ be a cluster point of both $S \\cap (-\\infty, c)$ and $S \\cap (c,\\infty)$. Then $c$ is a cluster point of $S$ and \n",
    "$$\n",
    "\\lim_{x \\to c} f(x) = L \\iff f(c^+) = L = f(c^-).\n",
    "$$"
   ]
  },
  {
   "cell_type": "markdown",
   "metadata": {},
   "source": [
    "**Example.** $f(x) =x^2$ is continuous"
   ]
  },
  {
   "cell_type": "markdown",
   "metadata": {},
   "source": [
    "Take any $c \\in \\Rr$. From the graph of $x^2$, it is easy to see that $|x^2 -c^2| < \\varepsilon$ if $|x-c| < \\sqrt{|c|^2 + \\varepsilon} - |c|$. To justify our intutition, we argue as follows:\n",
    "\n",
    "If $0\\le |x-c| < \\delta$, then\n",
    "$$\n",
    "\\begin{align*}\n",
    "|x^2 - c^2| & = |x-c||x+c| \\le \\delta(|x| + |c|)\\\\ \n",
    "            &\\le \\delta(|c| + |x-c| + |c|)\\\\ \n",
    "            &= \\delta(2|c|+ \\delta).\n",
    "\\end{align*}\n",
    "$$\n",
    "So how should one choose $\\delta$ if we want $\\delta(2|c|+ \\delta) < \\varepsilon$? \n",
    "One way is to solve the quadratic inequality $t(2|c|+t) -\\varepsilon < 0$. From this, we find out that by setting $\\delta < \\sqrt{|c|^2 + \\varepsilon} - |c|$ will make $\\delta(2|c|+ \\delta) < \\varepsilon$. (In fact, this is easy to guess that from the picture of $x^2$.)"
   ]
  },
  {
   "cell_type": "markdown",
   "metadata": {},
   "source": [
    "Solving $\\delta$ in terms of $\\varepsilon$ is often an overkill. Afterall, all we need is just *some* bound of $\\delta$. "
   ]
  },
  {
   "cell_type": "markdown",
   "metadata": {},
   "source": [
    "In this case, imagine, if $(2|c|+\\delta)$ were a constant, say $3$, then all we need is to choose $\\delta < \\varepsilon/3$. So, can we make that happen? Well, since we can choose $\\delta$, we can certainly pick it to be less than any constant, e.g. $1$. If we do that, then $\\delta(2|c|+\\delta) < \\delta(2|c|+1)$. And if we want $\\delta(2|c|+1) < \\varepsilon$, we should choose $0< \\delta < \\dfrac{\\varepsilon}{2|c|+1}$. "
   ]
  },
  {
   "cell_type": "markdown",
   "metadata": {},
   "source": [
    "Thus, to make both inequalities to be true, we can choose $\\delta < \\min\\left\\{1, \\dfrac{\\varepsilon}{2|c|+1}\\right\\}$."
   ]
  },
  {
   "cell_type": "markdown",
   "metadata": {},
   "source": [
    "**Example.** The function $f(x) = \\dfrac{1}{x}$ is continuous (on its domain $\\Rr \\setminus\\{0\\}$)."
   ]
  },
  {
   "cell_type": "markdown",
   "metadata": {},
   "source": [
    "Take any $c \\neq 0$. If $|x-c|< \\delta$ and $x \\neq 0$, then\n",
    "$$\n",
    "\\left|\\frac{1}{x}-\\frac{1}{c}\\right| = \\dfrac{|x-c|}{|c||x|} < \\dfrac{\\delta}{|x||c|}.\n",
    "$$"
   ]
  },
  {
   "cell_type": "markdown",
   "metadata": {},
   "source": [
    "If we want the expression on the right to be less than $\\varepsilon$, we need to make sure $|x|$ cannot be \"too small\". It should come to no surpise that we can bound $|x|$ from below in terms of $|c|$ because we can make $x$ close to $c$ by choosing a suitable $\\delta$.  "
   ]
  },
  {
   "cell_type": "markdown",
   "metadata": {},
   "source": [
    "Since $||x|-|c|| \\le |x-c| < \\delta$. So by choosing $\\delta < \\dfrac{|c|}{2}$, we get $|x| > \\dfrac{|c|}{2}$ (in particular , $x \\neq 0$) and hence $\\ds \\frac{1}{|x|} < \\frac{2}{|c|}$. \n",
    "\n",
    "Therefore, $\\ds \\left|\\frac{1}{x}-\\frac{1}{c}\\right| < \\frac{\\delta}{|x||c|} < \\frac{2\\delta}{|c|^2}$. And we can make the last expression $< \\varepsilon$ by choosing $\\delta < \\dfrac{\\varepsilon|c|^2}{2}$."
   ]
  },
  {
   "cell_type": "markdown",
   "metadata": {},
   "source": [
    "Thus, for a given $\\varepsilon >0$, if we choose $0 < \\delta < \\min\\left\\{\\dfrac{|c|}{2}, \\dfrac{\\varepsilon|c|^2}{2}\\right\\}$. Then $\\ds \\left|\\frac{1}{x}-\\frac{1}{c}\\right| < \\varepsilon$ whenever $|x-c|< \\delta$."
   ]
  }
 ],
 "metadata": {
  "celltoolbar": "Tags",
  "kernelspec": {
   "display_name": "SageMath 9.6",
   "language": "sage",
   "name": "sagemath"
  },
  "language_info": {
   "codemirror_mode": {
    "name": "ipython",
    "version": 3
   },
   "file_extension": ".py",
   "mimetype": "text/x-python",
   "name": "python",
   "nbconvert_exporter": "python",
   "pygments_lexer": "ipython3",
   "version": "3.10.4"
  }
 },
 "nbformat": 4,
 "nbformat_minor": 4
}
