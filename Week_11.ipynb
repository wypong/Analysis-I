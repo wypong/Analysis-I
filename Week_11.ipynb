{
 "cells": [
  {
   "cell_type": "markdown",
   "metadata": {
    "slideshow": {
     "slide_type": "fragment"
    }
   },
   "source": [
    "$\\newcommand{\\Rr}{\\mathbb{R}}$\n",
    "$\\newcommand{\\Zz}{\\mathbb{Z}}$\n",
    "$\\newcommand{\\Nn}{\\mathbb{N}}$\n",
    "$\\newcommand{\\Qq}{\\mathbb{Q}}$\n",
    "$\\newcommand{\\ve}{\\varepsilon}$\n",
    "$\\newcommand{\\dp}[2]{\\langle #1, #2\\rangle}$\n",
    "$\\newcommand{\\va}{\\mathbf{a}}$\n",
    "$\\newcommand{\\vb}{\\mathbf{b}}$\n",
    "$\\newcommand{\\vc}{\\mathbf{c}}$\n",
    "$\\newcommand{\\vx}{\\mathbf{x}}$\n",
    "$\\newcommand{\\vy}{\\mathbf{y}}$\n",
    "$\\newcommand{\\vz}{\\mathbf{z}}$\n",
    "$\\newcommand{\\norm}[1]{\\left\\| #1 \\right\\|}$\n",
    "$\\newcommand{\\ds}{\\displaystyle}$\n",
    "$\\DeclareMathOperator{\\dom}{Dom}$"
   ]
  },
  {
   "cell_type": "markdown",
   "metadata": {
    "slideshow": {
     "slide_type": "slide"
    }
   },
   "source": [
    "# Continuity of functions"
   ]
  },
  {
   "cell_type": "markdown",
   "metadata": {
    "slideshow": {
     "slide_type": "slide"
    }
   },
   "source": [
    "**Read Section 3.2** Check your understanding against the following questions:\n",
    "\n",
    "* What does it mean by a real-valued function $f(x)$ continuous at a point $c$?\n",
    "* What does it mean by a real-valued function is continuous?\n",
    "* What is by a removable discontinuity? What is a jump discontinuity? Give examples."
   ]
  },
  {
   "cell_type": "markdown",
   "metadata": {},
   "source": [
    "**Proposition 1.** (3.2.2) Let $f$ be a real-valued function defined on $S \\subset \\mathbb{R}$ and $c \\in S$. Then\n",
    "\n",
    "* $f$ is continuous on all isolated point of $S$.\n",
    "* If $c$ is a cluster point of $S$, then $f$ is continuous at $c$ if and only if $\\lim_{x \\to c} f(x) = f(c)$.\n",
    "* $f$ is continuous at $c$ if and only if for every sequence $(x_n)$ of elements of $S$ that tends to $c$, $f(x_n) \\to f(c)$."
   ]
  },
  {
   "cell_type": "markdown",
   "metadata": {},
   "source": [
    "Continuity is preserved by many operations, see **Proposition 3.2.5.**"
   ]
  },
  {
   "cell_type": "markdown",
   "metadata": {},
   "source": [
    "**Examples.**\n",
    "* Constant functions are continuous.\n",
    "* The identity function $x \\mapsto x$ is continuous.\n",
    "* $1/x$ is continuous on $(0,\\infty)$. (in fact, $1/x$ is continuous on its domain).\n",
    "* $x^{r}$ ($r  > )0$ is continuous on $[0,\\infty)$.\n",
    "* Polynomials and rational functions are contintuous.\n",
    "* $\\sin(x)$ and $\\cos(x)$ are continuous.\n",
    "* $e^x$ and $\\ln(x)$ are continuous."
   ]
  },
  {
   "cell_type": "markdown",
   "metadata": {},
   "source": [
    "**Composition of functions preserves continuity.** \n",
    "\n",
    "**Proposition 2. (3.2.7)** Suppose $f$ is continuous at $c$ and $g$ is continuous at\n",
    "$f(c)$, then $g \\circ f$ is continuous at $c$."
   ]
  },
  {
   "cell_type": "markdown",
   "metadata": {},
   "source": [
    "**Proof.** For any $\\varepsilon > 0$, since $g$ is continuous at $f(c)$, there\n",
    "exists $\\delta'  > 0$ such that $|g(u)-g(f(c))| < \\varepsilon$, whenever $u \\in\n",
    "\\dom g$ and $|u-c| < \\delta'$. Now, since $f$ is continuous at $c$, therefore\n",
    "there exists some $\\delta > 0$ so that $|f(x)-f(c)|< \\delta'$ for all $x$ in\n",
    "the domain of $f$ with $|x-c|< \\delta$. Putting these together, we conclude\n",
    "that for all $x \\in \\dom (g \\circ f)$ with $|x-c|< \\delta$, then $|f(x)-f(c)|\n",
    "< \\delta'$ and so $|g\\circ f(x) - g \\circ f(c)| = |g(f(x))-g(f(c))| <\n",
    "\\varepsilon$. This shows that $g\\circ f$ is continuous at $c$."
   ]
  },
  {
   "cell_type": "markdown",
   "metadata": {},
   "source": [
    "**Corollary 3.** Suppose $g$ is continuous at $c$ and $g(c) \\neq 0$. Then\n",
    "$(1/g)$ is continuous at $c$."
   ]
  }
 ],
 "metadata": {
  "celltoolbar": "Tags",
  "jupytext": {
   "formats": "ipynb,md"
  },
  "kernelspec": {
   "display_name": "SageMath 9.6",
   "language": "sage",
   "name": "sagemath"
  },
  "language_info": {
   "codemirror_mode": {
    "name": "ipython",
    "version": 3
   },
   "file_extension": ".py",
   "mimetype": "text/x-python",
   "name": "python",
   "nbconvert_exporter": "python",
   "pygments_lexer": "ipython3",
   "version": "3.10.4"
  }
 },
 "nbformat": 4,
 "nbformat_minor": 4
}
