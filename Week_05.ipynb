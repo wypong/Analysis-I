{
 "cells": [
  {
   "cell_type": "markdown",
   "metadata": {
    "slideshow": {
     "slide_type": "fragment"
    }
   },
   "source": [
    "$\\newcommand{\\Rr}{\\mathbb{R}}$\n",
    "$\\newcommand{\\Zz}{\\mathbb{Z}}$\n",
    "$\\newcommand{\\Nn}{\\mathbb{N}}$\n",
    "$\\newcommand{\\Qq}{\\mathbb{Q}}$\n",
    "$\\newcommand{\\ve}{\\varepsilon}$\n",
    "$\\newcommand{\\dp}[2]{\\langle #1, #2\\rangle}$\n",
    "$\\newcommand{\\va}{\\mathbf{a}}$\n",
    "$\\newcommand{\\vb}{\\mathbf{b}}$\n",
    "$\\newcommand{\\vc}{\\mathbf{c}}$\n",
    "$\\newcommand{\\vx}{\\mathbf{x}}$\n",
    "$\\newcommand{\\vy}{\\mathbf{y}}$\n",
    "$\\newcommand{\\vz}{\\mathbf{z}}$\n",
    "$\\newcommand{\\norm}[1]{\\left\\| #1 \\right\\|}$"
   ]
  },
  {
   "cell_type": "markdown",
   "metadata": {
    "slideshow": {
     "slide_type": "slide"
    }
   },
   "source": [
    "# Sequences"
   ]
  },
  {
   "cell_type": "markdown",
   "metadata": {
    "slideshow": {
     "slide_type": "slide"
    }
   },
   "source": [
    "**Read Section 2.1, 2.2. Also, review the materials about sequences from Calculus II.** \n",
    "\n",
    "Check your understanding against the following questions:\n",
    "\n",
    "* What is a sequence of real numbers?\n",
    "* What means by a sequence of numbers is bounded? Give examples of bounded and unbounded sequences.\n",
    "* What means by a sequence of numbers is convergent?\n"
   ]
  },
  {
   "cell_type": "markdown",
   "metadata": {},
   "source": [
    "* What means by a sequence is monotone (monotonic increasing, monotonic decreasing)? Give examples.\n",
    "* What is a tail of a sequence? Give examples.\n",
    "* What is a subsequence? Give examples."
   ]
  },
  {
   "cell_type": "markdown",
   "metadata": {},
   "source": [
    "**Notation.**\n",
    "\n",
    "* For sequences, we use the notation $(x_n)$ (the textbook notation is $\\{x_n \\}$).\n",
    "* We also write $x_n \\to L$ for $\\lim_{n \\to \\infty} x_n = L$.\n",
    "* For $n \\gg 0$ means \"for all sufficiently large $n$\". That is the phrase \"there exists $N$ such that for all $n \\ge N$.\"\n",
    "* The usual logic convention for unquantified variable in a sentence means the quatifier is the universal, i.e. for all. For example. \"suppose $x_n \\ge 0$.\" means \"suppose $x_n \\ge 0$ for all $n$.\n",
    "* We say that a sequence $(x_n)$ is **null** if $x_n \\to 0$. Note that $x_n \\to L$ if and only if the sequence $(|x_n-L|)$ is null."
   ]
  },
  {
   "cell_type": "markdown",
   "metadata": {},
   "source": [
    "## Fundamental results of convergence of real sequences "
   ]
  },
  {
   "cell_type": "markdown",
   "metadata": {},
   "source": [
    "**Proposition 1.** A convergent sequence has a unique limit."
   ]
  },
  {
   "cell_type": "markdown",
   "metadata": {},
   "source": [
    "**Proof.** Suppose $L$ and $L'$ are limits of a convergent sequence $(x_n)$.\n",
    "\n",
    "Since both $L$ and $L'$ are limits of $(x_n)$, for any $\\varepsilon >0$, there exist $N,N' \\in \\Nn$ such that $|x_n-L|< \\varepsilon/2$ for all $n \\ge N$ and $|x_n -L'| < \\varepsilon/2$ for all $n \\ge N'$. Thus, for $n \\ge \\max\\left\\{ N,N' \\right\\}$, we have, by the triangle inequality, that\n",
    "$$\n",
    "0 \\le |L -L'| \\le |x_n-L|+|x_n'-L| \\le \\ve/2 + \\ve/2 = \\ve.\n",
    "$$"
   ]
  },
  {
   "cell_type": "markdown",
   "metadata": {},
   "source": [
    "**Proposition 2.** A convergent sequence is bounded."
   ]
  },
  {
   "cell_type": "markdown",
   "metadata": {},
   "source": [
    "**Proof.** Suppose $x_n \\to L$, then there exists $N \\in \\Nn$ such that $|x_n-L| < 1$ whenever $n \\ge N$. Thus, by the triangle inequality, whenever $n \\ge N$,\n",
    "\n",
    "$$|x_n|-1 \\le ||x_n|-1| \\le |x_n-1| < \\ve.$$\n",
    "\n",
    "Consequently, $|x_k| \\le B:=\\max\\{|x_1|, \\ldots, |x_{N-1}|, 1+|L|\\}$ for all $k \\in \\Nn$."
   ]
  },
  {
   "cell_type": "markdown",
   "metadata": {},
   "source": [
    "**Theorem 3 (bounded convergence theorem)** \n",
    "\n",
    "A bounded increasing (resp. decreasing) sequence $(x_n)$ converges to $\\sup\\{x_n\\colon n \\in \\Nn\\}$ (resp. $\\inf \\{x_n \\colon n \\in \\Nn\\}$.)"
   ]
  },
  {
   "cell_type": "markdown",
   "metadata": {},
   "source": [
    "**Proof.** We will only prove the case for increasing sequence. The set of terms $S = \\{x_n \\colon n \\in \\Nn\\}$ is bounded above by the assumption and is non-empty since $x_1 \\in S$. Therefore, $s :=\\sup S$\n",
    "exists by the least upper bound property. For any $\\ve >0$, $s-\\ve$ cannot be an upper bound of $S$. Thus, $s -\\ve < x_N$ for some $N \\in \\Nn$. Since $(x_n)$ is increasing, for all $n \\ge N$, \n",
    "$$s-\\ve < x_N \\le x_n \\le s$$ \n",
    "\n",
    "This shows that $x_n \\to s$."
   ]
  },
  {
   "cell_type": "markdown",
   "metadata": {},
   "source": [
    "**Proposition 2.2.5--2.2.7** state that various operations on convergent sequences (with extra assumptions, in some cases) result in a convergent sequence and taking limit commutes with these operations. \n",
    "\n",
    "**Attention should be paid** on the assumptions of these results. Find examples that show these assumptions are necessarily."
   ]
  },
  {
   "cell_type": "markdown",
   "metadata": {},
   "source": [
    "**Lemma 4 (Squeeze Lemma).** Suppose $a_n \\le x_n \\le b_n$ for all $n \\in \\Nn$ and $(a_n)$, $(b_n)$ have the same limit $L$. Then $(x_n)$ converges to $L$."
   ]
  },
  {
   "cell_type": "markdown",
   "metadata": {},
   "source": [
    "**Proof.** Let $y_n = x_n-a_n$ and $c_n = b_n -a_n$. Then $0 \\le y_n \\le c_n$ for all $n$. Since both $(a_n)$ and $(b_n)$ are convergent, so is $c_n$. Moreover, \n",
    "\n",
    "$$\\lim c_n = \\lim b_n - \\lim a_n = L -L = 0.$$ \n",
    "\n",
    "Thus, for any $\\ve > 0$, there exists $N$, such that $0 \\le y_n \\le c_n < \\ve$ for all $n \\ge N$. This shows that $y_n \\to 0$. Therefore, $(x_n)$, as the sum of two convergent sequences, namely $(a_n)$ and $(y_n)$, is convergent. Moreover, \n",
    "$$\\lim x_n = \\lim a_n + \\lim y_n = L + 0 = L.$$"
   ]
  },
  {
   "cell_type": "markdown",
   "metadata": {},
   "source": [
    "**Proposition 5.** Let $S \\subset \\Rr$ be a nonempty set that is bounded above (resp bounded below). Then there exists an increasing sequence $(x_n)$ (resp. a decreasing sequence $(y_n)$) of elements of $S$ such that\n",
    "$$\n",
    "\\sup S = \\lim x_n \\quad (\\text{resp. } \\inf S = \\lim y_n).\n",
    "$$"
   ]
  },
  {
   "cell_type": "markdown",
   "metadata": {},
   "source": [
    "**Proof.** We prove that for the case when $S$ is bounded below. Let $a$ be the infimum of $S$. If $a \\in S$, then simply take $y_n=a$ for each $n$. Thus, we can assume $a \\notin S$. We are going to construct $(y_n)$ **inductively**. Fix any $y_1 \\in S$. Since $a \\notin S$ and is a lower bound of $S$, we must have $a < y_1$.  Suppose for $k \\ge 1$, we have constructed\n",
    "$$\n",
    "a < y_k < \\cdots < y_1\n",
    "$$ \n",
    "such that $y_k -a < (y_1-a)/2^{k-1}$. Since $a < m:=\\dfrac{y_k+a}{2} < y_k$, so $m$ is not a lower bound of $S$ and hence there exists $y_{k+1} \\in S$ such that $ a < y_{k+1} < m$. By the induction hypothesis, $(y_k-a) < \\dfrac{y_1-a}{2^{k-1}}$. Consequently, \n",
    "\n",
    "$$0 < y_{k+1}-a < m-a = \\frac{y_k+a}{2} - a = \\frac{y_k-a}{2} < \\frac{y_1-a}{2^k}.$$\n",
    "\n",
    "Thus, we have constructed, by induction, a decreasing sequence $(y_n)$ in $S$ such that for all $n \\ge 1$,\n",
    "$$ 0< y_n -a < \\frac{y_1-a}{2^{n-1}} $$\n",
    "Since $(y_1-a)/2^{n-1}  \\to 0$ so $y_n \\to a$ by the squeeze lemma.\n"
   ]
  },
  {
   "cell_type": "markdown",
   "metadata": {},
   "source": [
    "**Proposition 6.** Two sequences differ by finitely many terms have the same convergence--that is either both converge to the same limit or both are divergent. Consequently if a sequence is obtained from another by dropping finitely many terms, then they have the same convergence."
   ]
  },
  {
   "cell_type": "markdown",
   "metadata": {},
   "source": [
    "**Proposition 7.** Every subsequence of a convergent sequence has the same limit as the sequence."
   ]
  },
  {
   "cell_type": "markdown",
   "metadata": {},
   "source": [
    "**Proof.** Suppose $x_n \\to L$ and $(x_{n_k})$ is a subsequence of $(x_n)$. For any $\\varepsilon > 0$, there exists $N \\in \\Nn$, such that \n",
    "\n",
    "$$ |x_n -L| < \\varepsilon, \\forall n \\ge N \\tag{*}$$\n",
    "\n",
    "Since $(n_k)$ is a strictly increasing sequence of natural numbers, $n_k \\ge k$ for all $k$. \n",
    "\n",
    "Therefore,\n",
    "if $k \\ge N$, then so is $n_k$ and hence $|x_{n_k} - L| < \\varepsilon$\n",
    "according to $(*)$. This show that $x_{n_k} \\to L$ as $k \\to \\infty$.\n"
   ]
  },
  {
   "cell_type": "markdown",
   "metadata": {},
   "source": [
    "**Proposition 8.** If $(x_n)$ is convergent and $x_n \\ge 0$, then $\\lim x_n \\ge 0$."
   ]
  },
  {
   "cell_type": "markdown",
   "metadata": {},
   "source": [
    "**Proof.** Suppose $(x_n) \\to L$ but $L < 0$. Since $x_n \\ge 0$ and $L <0$, so for any $n$,\n",
    "\n",
    "$$ |x_n - L| = x_n - L = x_n+|L| \\ge |L| >0.$$\n",
    "\n",
    "This contradicts $\\lim x_n = L$."
   ]
  },
  {
   "cell_type": "markdown",
   "metadata": {},
   "source": [
    "Note that even if each $x_n >0$, we still cannot conclude that the limit is positive, e.g. $(1/n)$."
   ]
  },
  {
   "cell_type": "markdown",
   "metadata": {},
   "source": [
    "**Corollary 9.** If $(x_n),(y_n)$ are convergent and $y_n \\ge x_n$ for all $n$, then $\\lim y_n \\ge \\lim x_n$. \n",
    "\n",
    "**Proof.** Let $z_n = y_n-x_n$. Then the sequence $(z_n)$ is convergent and $z_n \\ge 0$ for all $n$. So by Proposition 8. $\\lim z_n \\ge 0$. But $\\lim z_n = \\lim y_n - \\lim x_n$. And so we have $\\lim y_n \\ge \\lim x_n$. "
   ]
  }
 ],
 "metadata": {
  "celltoolbar": "Tags",
  "kernelspec": {
   "display_name": "SageMath 9.6",
   "language": "sage",
   "name": "sagemath"
  },
  "language_info": {
   "codemirror_mode": {
    "name": "ipython",
    "version": 3
   },
   "file_extension": ".py",
   "mimetype": "text/x-python",
   "name": "python",
   "nbconvert_exporter": "python",
   "pygments_lexer": "ipython3",
   "version": "3.10.6"
  }
 },
 "nbformat": 4,
 "nbformat_minor": 4
}
