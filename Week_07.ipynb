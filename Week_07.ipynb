{
 "cells": [
  {
   "cell_type": "markdown",
   "metadata": {
    "slideshow": {
     "slide_type": "fragment"
    }
   },
   "source": [
    "$\\newcommand{\\Rr}{\\mathbb{R}}$\n",
    "$\\newcommand{\\Zz}{\\mathbb{Z}}$\n",
    "$\\newcommand{\\Nn}{\\mathbb{N}}$\n",
    "$\\newcommand{\\Qq}{\\mathbb{Q}}$\n",
    "$\\newcommand{\\ve}{\\varepsilon}$\n",
    "$\\newcommand{\\dp}[2]{\\langle #1, #2\\rangle}$\n",
    "$\\newcommand{\\va}{\\mathbf{a}}$\n",
    "$\\newcommand{\\vb}{\\mathbf{b}}$\n",
    "$\\newcommand{\\vc}{\\mathbf{c}}$\n",
    "$\\newcommand{\\vx}{\\mathbf{x}}$\n",
    "$\\newcommand{\\vy}{\\mathbf{y}}$\n",
    "$\\newcommand{\\vz}{\\mathbf{z}}$\n",
    "$\\newcommand{\\norm}[1]{\\left\\| #1 \\right\\|}$"
   ]
  },
  {
   "cell_type": "markdown",
   "metadata": {
    "slideshow": {
     "slide_type": "slide"
    }
   },
   "source": [
    "# Liminf, Limsup and the Bolzano-Weierstrass Theorem"
   ]
  },
  {
   "cell_type": "markdown",
   "metadata": {
    "slideshow": {
     "slide_type": "slide"
    }
   },
   "source": [
    "**Read Section 2.3.** Check your understanding against the following questions:\n",
    "\n",
    "* What is $\\limsup$ (resp. $\\liminf$) of a sequence?\n",
    "* What is the Bolzano-Weierstrass theorem?\n",
    "* What means by $\\lim x_n = \\infty$, $\\lim x_n = -\\infty$?"
   ]
  },
  {
   "cell_type": "markdown",
   "metadata": {},
   "source": [
    "## Bounded Case"
   ]
  },
  {
   "cell_type": "markdown",
   "metadata": {},
   "source": [
    "Suppose $(x_n)$ is a bounded sequence, i.e. there exists a $B$ such that $|x_n| < B$ for all $n$. Then \n",
    "\n",
    "$$S_k := \\{x_n \\colon n \\ge k\\} \\qquad (k=1,2,3...)$$\n",
    "\n",
    "form a decreasing chain (i.e. $S_{k} \\supseteq S_{k+1}$) of nonempty bounded sets. \n",
    "\n",
    "Therefore, both $a_k:=\\sup S_k$ and $b_k:=\\inf S_k$ ($k \\in \\Nn$) exist and \n",
    "\n",
    "$$b_1 \\le b_2 \\le \\cdots \\le b_k \\le b_{k+1} \\le \\cdots \\le a_{k+1} \\le a_k \\cdots \\le a_2 \\le a_1.$$\n",
    "\n",
    "The sequence $(a_k)$ is decreasing and bounded below by $b_1$ (in fact by any of the $b_k$'s) so \n",
    "\n",
    "$$\\lim a_k = \\inf \\{a_k \\colon k \\in \\Nn\\} = \\inf_k \\sup S_k$$ \n",
    "\n",
    "exists. Denote this limit by $\\limsup x_n$. \n",
    "\n",
    "Likewise, $(b_k)$ is an increasing sequence bounded above by $a_1$ (in fact any of the $a_k$'s) so \n",
    "\n",
    "$$\\lim b_k = \\sup \\{b_k \\colon k \\in \\Nn\\} = \\sup_k \\inf S_k.$$ \n",
    "\n",
    "exists. Denote this limit by $\\liminf x_n$.\n",
    "\n",
    "These limits are called the **limit superior** and **limit inferior** of $(x_n)$. Clearly, $\\liminf x_n \\le \\limsup x_n$. Moreover, for each $k$,\n",
    "\n",
    "$$b_k \\le x_k \\le a_k.$$ \n",
    "\n",
    "Therefore, if $\\liminf x_n = \\limsup x_n$, then $(x_n)$ converges to this common value by the squeeze lemma. "
   ]
  },
  {
   "cell_type": "markdown",
   "metadata": {},
   "source": [
    "**Checkpoints:** What are the $(a_k)$ and $(b_k)$ are of the following sequences and what are their $\\limsup$ and $\\liminf$?\n",
    "\n",
    "$$ ((-1)^n),\\quad (1/n),\\quad ((-1)^n/n)$$"
   ]
  },
  {
   "cell_type": "markdown",
   "metadata": {},
   "source": [
    "**Proposition 1.** (2.3.2, 2.3.5) For any bounded sequence of real numbers $(x_n)$. $\\limsup x_n$ and $\\liminf x_n$ exist with $\\liminf x_n \\le \\limsup x_n$. Moreover, \n",
    "\n",
    "$(x_n)$ is convergent if, and only if, $\\limsup x_n = \\liminf x_n$ and the limit of $x_n$ is the their common value."
   ]
  },
  {
   "cell_type": "markdown",
   "metadata": {},
   "source": [
    "**Proof.** The only thing remains to be proved is that if $(x_n)$ is convergent then $\\limsup x_n = \\liminf x_n$.\n",
    "\n",
    "Suppose $\\lim x_n = L$. If we can show that there are subsequences $(x_{n_k})$ and $(x_{m_k})$ of $(x_n)$ that converges to $\\limsup x_n$ and $\\liminf x_n$, respectively, then since any subsequence of a convergent sequence converges to the limit of the sequence, so we must have\n",
    "\n",
    "$$\n",
    "    \\limsup x_n = L = \\liminf x_n.\n",
    "$$\n",
    "\n",
    "Therefore, all we need is to establish the following theorem."
   ]
  },
  {
   "cell_type": "markdown",
   "metadata": {},
   "source": [
    "**Theorem 2.** For any bounded sequence $(x_n)$, there is a subsequence that converges to $\\limsup x_n$ (resp $\\liminf x_n$)."
   ]
  },
  {
   "cell_type": "markdown",
   "metadata": {},
   "source": [
    "**Proof.** We prove the statement for $\\limsup x_n$ and leave the analogous statement for $\\liminf x_n$ as an exercise.\n",
    "\n",
    "Since $(x_n)$ is bounded, $L := \\limsup x_n$ exists. \n",
    "\n",
    "Recall that $a_n = \\sup S_n = \\sup\\{x_k \\colon k \\ge n\\}$ ($n \\in \\Nn$) form a decreasing sequence that converges to $L$. \n",
    "\n",
    "So, for any $k \\in \\Nn$, there exists $m_k \\in \\Nn$ such that for any $n \\ge m_k$,\n",
    "\n",
    "$$ L -\\frac{1}{k} < a_n < L+\\frac{1}{k}. \\tag{*} $$\n",
    "\n",
    "In particular, $L-1$ cannot be an upper bound of $S_{m_1}$ because it is strictly smaller than $a_{m_1}$. \n",
    "\n",
    "Thus, there exists $n_1 \\ge m_1$ such that $ L -1 < x_{n_1}$ and so,\n",
    "\n",
    "$$ L -1 < x_{n_1} \\le a_{m_1} < L +1.$$\n",
    "\n",
    "Now suppose for some $k \\ge 1$, natural numbers $n_1 < n_2 < \\cdots < n_k$ have been choose such that \n",
    "\n",
    "$$ L - \\frac{1}{m} < x_{n_m} < L+\\frac{1}{m} \\quad \\forall\\ 1\\le m \\le k.$$\n",
    "\n",
    "Take $N=\\max\\{m_{k+1}, n_k\\}+1$, then clearly $N > m_{k+1}$. Therefore, by $(*)$, \n",
    "\n",
    "$$L - \\frac{1}{k+1} < a_N < L + \\frac{1}{k+1}.$$\n",
    "\n",
    "Again $L - 1/(k+1)$ cannot be an upper bound of $S_{N}$, so there exists some $n_{k+1} \\ge N > n_k$, such that \n",
    "\n",
    "$$L - \\frac{1}{k+1} < x_{n_{k+1}} \\le a_N < L + \\frac{1}{k+1}.$$\n",
    "\n",
    "So, we have just constructed, by induction, a strictly increasing sequence $(n_k)$ of natural number such that for all $k \\in \\Nn$,\n",
    "\n",
    "$$ L - \\frac{1}{k} < x_{n_k} < L + \\frac{1}{k}.$$\n",
    "\n",
    "By the squeeze lemma, $(x_{n_k})$ converges to $L=\\limsup x_n$."
   ]
  },
  {
   "cell_type": "markdown",
   "metadata": {},
   "source": [
    "We have just proved a very important theorem in Real Analysis."
   ]
  },
  {
   "cell_type": "markdown",
   "metadata": {},
   "source": [
    "**Bolzano-Weierstrass Theorem.** Every bounded sequence of real numbers has a convergent subsequence."
   ]
  },
  {
   "cell_type": "markdown",
   "metadata": {},
   "source": [
    "**Exercise.** Give a sequence of real numbers that has no convergent subsequence."
   ]
  },
  {
   "cell_type": "markdown",
   "metadata": {},
   "source": [
    "**Proposition 3.** If $(x_{n_k})$ is a subsequence of $(x_n)$, then\n",
    "\n",
    "$$\n",
    "\\liminf_n x_n \\le \\liminf_k x_{n_k} \\le \\limsup_k x_{n_k} \\le \\limsup_n x_n.\n",
    "$$\n",
    "\n",
    "Consequently, $\\limsup x_n$ ($\\liminf x_n$) is the largest (smallest) limit of any convergent subsequence of $(x_n)$."
   ]
  },
  {
   "cell_type": "markdown",
   "metadata": {},
   "source": [
    "**Proof.** For any $m \\in \\Nn$, it is clear that\n",
    "\n",
    "$$\n",
    "S'_{m} := \\{x_{n_k} \\colon k \\ge m\\} \\subseteq S_{n_m}: = \\{x_{n} \\colon n \\ge n_m\\}.\n",
    "$$\n",
    "\n",
    "So, $a'_m:=\\sup S'_{m} \\le a_{n_m} :=\\sup S_{n_m}.$ Since $(a_{n_m})$ is a subsequence of $(a_n)$ which converges to $\\limsup x_n$, therefore,\n",
    "\n",
    "$$ \n",
    "\\limsup_k x_{n_k} := \\lim_m a'_m \\le \\lim_m a_{n_m} = \\lim_n a_n = \\limsup x_n.\n",
    "$$\n",
    "\n",
    "Now if $(x_{n_k})$ is convergent, then by Proposition 1, $\\lim_k x_{n_k} = \\limsup_k x_{n_k} = \\liminf_k x_{n_k}$.\n",
    "\n",
    "Hence, $\\liminf x_n \\le \\lim x_{n_k} \\le \\limsup x_n$. "
   ]
  },
  {
   "cell_type": "markdown",
   "metadata": {},
   "source": [
    "**Facts.** \n",
    "\n",
    "* B-W Theorem is logically equivalent to the least-upper-bound property.\n",
    "* B-W Theorem holds for sequences in $\\Rr^n$ as well."
   ]
  },
  {
   "cell_type": "markdown",
   "metadata": {},
   "source": [
    "## Unbounded Case\n",
    "**Read also Section 2.3.4**"
   ]
  },
  {
   "cell_type": "markdown",
   "metadata": {},
   "source": [
    "What if $(x_n)$ is unbounded? What can we say about $\\limsup x_n$ and $\\liminf x_n$?"
   ]
  },
  {
   "cell_type": "markdown",
   "metadata": {},
   "source": [
    "First, note if $S_k:=\\{x_n \\colon n \\ge k\\}$ is bounded above for some $k$ then the maximum of $\\{x_1,x_2,\\ldots, x_{k-1},B\\}$, where $B$ is an upper bound of $S_k$, will be an upper bound of the whole sequence $(x_n)$. Thus, if the sequence $(x_n)$ is not bounded above, then none of the $S_k$ is bounded above. Consequently, $a_k = \\sup S_k = \\infty$ for each $k$ and so $\\limsup x_n = \\lim a_k = \\infty$. \n",
    "\n"
   ]
  },
  {
   "cell_type": "markdown",
   "metadata": {},
   "source": [
    "Suppose $\\limsup x_n = \\lim a_k = \\infty$. Since $(a_k)$ is decreasing, $a_k = \\sup S_k = \\infty$ for all $k$. Since $\\sup S_1 = \\infty$, there exists $n_1 \\ge 1$ such that $x_{n_1} \\ge 1$. Suppose for some $k \\ge 1$, a strictly increasing sequence of natural numbers\n",
    "\n",
    "$$n_1 < n_2 < \\cdots < n_k$$\n",
    "\n",
    "has been constructed so that $x_{n_k} \\ge k$. Now since \n",
    "Since $\\sup S_{n_k + 1} = \\infty$, there exists $n_{k+1} \\ge n_k+1 > n_1$ such that $x_{n_{k+1}} \\ge k+1$. Thus, by induction we constructed a subsequence $(x_{n_k})$ of $(x_n)$ that diverges to $\\infty$.\n",
    "\n",
    "Clear, if $(x_n)$ has a subsequence $(x_{n_k})$ that diverges to $\\infty$, then the set of terms $(x_{n_k})$ and hence the set of terms of $(x_n)$ must not be bounded. \n",
    "\n",
    "Let us summarize what we have proved by the following proposition."
   ]
  },
  {
   "cell_type": "markdown",
   "metadata": {},
   "source": [
    "**Proposition 3.** The following statements are equivalent:\n",
    "\n",
    "1. $(x_n)$ is not bounded above (resp., not bouned below).\n",
    "1. $\\limsup x_n = \\infty$ (resp., $\\liminf x_n = -\\infty$).\n",
    "1. There exists a subsequence of $(x_n)$ that diverges to $\\infty$ (resp. diverges to $-\\infty$)."
   ]
  },
  {
   "cell_type": "markdown",
   "metadata": {},
   "source": [
    "## Few more examples"
   ]
  },
  {
   "cell_type": "markdown",
   "metadata": {},
   "source": [
    "Discuss the limit inferior and limit supreior of the following sequences $(x_n)$ where \n",
    "\n",
    "1. $x_n = (-2)^n$\n",
    "1. $x_n = 5(1+n)$\n",
    "1. $x_n = (-1/2^n)$\n",
    "1. $x_n = (-1)^n\\left(1 - \\dfrac{1}{n}\\right)$."
   ]
  },
  {
   "cell_type": "markdown",
   "metadata": {},
   "source": [
    "For (1) $(x_n) = (-2,4,-8,...)$. For each $k$, the set $S_k = \\{(-2)^k \\colon k \\ge n\\}$ contains both of positive and negative numbers of arbitrary large absolute values, hence both $\\inf S_k = -\\infty$ and $\\sup S_k = \\infty$ for each $k$. Therefore, $\\limsup x_n = \\infty$ and $\\liminf x_n = - \\infty$.\n",
    "\n",
    "Another way of seeing this is that, since there is a subsequence $((-2)^{2k})_k = (4^k)_k$ that diverges to $\\infty$, so $\\limsup$ of the sequence must be be $\\infty$. Likewise since the subsequece $((-2)^{2k-1}) = (-2^{2k-1})$ diverges to $-\\infty$, so $\\liminf$ of the sequence must be $-\\infty$. "
   ]
  },
  {
   "cell_type": "markdown",
   "metadata": {},
   "source": [
    "For (2), $(x_n) = (10,15,20,...)$. Then $\\inf S_k$ and $\\sup S_k$ are both $\\infty$ for each $k$ and hence so are the liminf and $\\limsup$."
   ]
  },
  {
   "cell_type": "markdown",
   "metadata": {},
   "source": [
    "For (3), $(x_n) = (-1/2,1/4,-1/8,...)$. Note that $\\lim x_n = 0$ hence $\\limsup x_n = \\liminf x_n = \\lim x_n =0$."
   ]
  },
  {
   "cell_type": "markdown",
   "metadata": {},
   "source": [
    "For (4), $(x_n) = (0,(1-1/2),-(1-1/3),...)$. This sequence is divergent but bounded, hence both $\\liminf$ and $\\limsup$ of $(x_n)$ are finite. In this case, $\\limsup x_n =1$ and $\\liminf x_n = -1$."
   ]
  },
  {
   "cell_type": "markdown",
   "metadata": {
    "tags": [
     "remove_cell"
    ]
   },
   "source": [
    "## Appendix"
   ]
  },
  {
   "cell_type": "markdown",
   "metadata": {
    "tags": [
     "remove_cell"
    ]
   },
   "source": [
    "We will give a proof different from the one in the textbook (roughly along the line of Exercise 2.3.9 and 2.3.10)"
   ]
  },
  {
   "cell_type": "markdown",
   "metadata": {
    "tags": [
     "remove_cell"
    ]
   },
   "source": [
    "**Lemma 4.** Let $(x_n)$ be a bounded sequence. If $s$ the supremum of $X:=\\{x_n \\colon n \\in \\Nn\\}$ is not in $X$, then there is an increasing subsequence of $(x_n)$ with $s$ as limit."
   ]
  },
  {
   "cell_type": "markdown",
   "metadata": {
    "tags": [
     "remove_cell"
    ]
   },
   "source": [
    "**Proof.** For each $k$, let $X_k = \\{x_n \\colon n \\le k\\}$.\n",
    "\n",
    "Since $s-1$ is not an upper bound of $X$ and $s \\notin X$, $s-1 < x_{n_1} < s$ for some $n_1$. Suppose for some $k \\ge 1$, $n_1 < n_2 < \\cdots < n_k$ have been choosen so that $x_{n_1} < x_{n_2} < \\cdots < x_{n_k}$ and $s- \\frac{1}{m} < x_{n_m} < s$ for all $1 \\le m \\le k$. There must be some element of $X \\setminus X_{n_k}$ bigger than both $\\max X_{n_k}$ and $s- \\frac{1}{k+1}$. If not, then the bigger one of the two numbers $\\max X_{n_k} (\\in X)$ and $s-\\frac{1}{k+1}$ would be an upper bound of $X$. But both of them are less than $s$, a contradiction. Thus, there must be $n_{k+1} > n_k$ with $x_{n_k}, s-\\frac{1}{k+1} < x_{n_{k+1}} < s$. Therefore, by induction we construct an increasing subsequence $(x_{n_k})$ of $(x_n)$ with $s-\\frac{1}{k} < x_{n_k} < s$ for all $k$ and so $x_{n_k} \\to s$ by the squeeze lemma."
   ]
  },
  {
   "cell_type": "markdown",
   "metadata": {
    "tags": [
     "remove_cell"
    ]
   },
   "source": [
    "**Proof.** (B-W Theorem) If $X$ is finite, then $(x_n)$ must have a constant (hence convergent) subsequence. So, let us assume $X$ is infinite. Let $s_0 :=\\sup X$. If $s_0 \\notin X$, then we are done by the lemma. Otherwise, $s_0 \\in X$ and so $s_0 = x_{n_1}$ for some $n_1$. If $X \\setminus X_{n_1}$, which is nonempty and bounded, does not contain its supremum, say $s_1$, then we are done by the lemma. Otherwise, $s_1 \\in X \\setminus X_{n_1}$ and so $s_1 = x_{n_2}$ for some $n_2 > n_1$ and $x_{n_2} \\le x_{n_1}$. Repeat the process, we either stop at some point because $X\\setminus X_{n_k}$ does not contain its supremum and we obtain a convergent subsequence of $(x_n)$ by the lemma or else $(x_{n_k})$ is a decreasing subsequence of $(x_n)$. In particular, $(x_{n_k})$ is also bounded and hence convergent. "
   ]
  }
 ],
 "metadata": {
  "celltoolbar": "Tags",
  "kernelspec": {
   "display_name": "SageMath 9.6",
   "language": "sage",
   "name": "sagemath"
  },
  "language_info": {
   "codemirror_mode": {
    "name": "ipython",
    "version": 3
   },
   "file_extension": ".py",
   "mimetype": "text/x-python",
   "name": "python",
   "nbconvert_exporter": "python",
   "pygments_lexer": "ipython3",
   "version": "3.10.6"
  }
 },
 "nbformat": 4,
 "nbformat_minor": 4
}
