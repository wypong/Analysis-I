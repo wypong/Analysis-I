{
 "cells": [
  {
   "cell_type": "markdown",
   "metadata": {
    "slideshow": {
     "slide_type": "fragment"
    }
   },
   "source": [
    "$\\newcommand{\\Rr}{\\mathbb{R}}$\n",
    "$\\newcommand{\\Zz}{\\mathbb{Z}}$\n",
    "$\\newcommand{\\Nn}{\\mathbb{N}}$\n",
    "$\\newcommand{\\Qq}{\\mathbb{Q}}$\n",
    "$\\newcommand{\\ve}{\\varepsilon}$\n",
    "$\\newcommand{\\dp}[2]{\\langle #1, #2\\rangle}$\n",
    "$\\newcommand{\\va}{\\mathbf{a}}$\n",
    "$\\newcommand{\\vb}{\\mathbf{b}}$\n",
    "$\\newcommand{\\vc}{\\mathbf{c}}$\n",
    "$\\newcommand{\\vx}{\\mathbf{x}}$\n",
    "$\\newcommand{\\vy}{\\mathbf{y}}$\n",
    "$\\newcommand{\\vz}{\\mathbf{z}}$\n",
    "$\\newcommand{\\norm}[1]{\\left\\| #1 \\right\\|}$\n",
    "$\\newcommand{\\ds}{\\displaystyle}$"
   ]
  },
  {
   "cell_type": "markdown",
   "metadata": {
    "slideshow": {
     "slide_type": "slide"
    }
   },
   "source": [
    "# The mean value theorem"
   ]
  },
  {
   "cell_type": "markdown",
   "metadata": {},
   "source": [
    "Read Section 4.2 and check your understanding against these questions:\n",
    "\n",
    "* What is Rolle's Theorem?\n",
    "* What is the mean value theorem?\n",
    "* What is Cauchy mean value theorem?"
   ]
  },
  {
   "cell_type": "markdown",
   "metadata": {},
   "source": [
    "**Theorem 1.** (Rolle) Let $f \\colon [a,b] \\to \\Rr$ satisfying:\n",
    "\n",
    "1. $f(a) = 0 = f(b)$\n",
    "1. $f$ continuous on $[a,b]$\n",
    "1. $f$ differentiable on $(a,b)$.\n",
    "\n",
    "Then $f'(c) = 0$ for some $c \\in (a,b)$."
   ]
  },
  {
   "cell_type": "markdown",
   "metadata": {},
   "source": [
    "**Proof.** By the EVT, there exists $c,d \\in [a,b]$ so that $f(c) \\le f(x) \\le f(d)$ for all $x\\in [a,b]$. If both $f(c)$ and $f(d)$ are zero, then $f \\equiv 0$ and hence $f'(c) = 0$ for any $c \\in (a,b)$. \n",
    "\n",
    "WLOG we can assume $f(c) \\neq 0$ (the proof is similar if $f(d) \\neq 0$). Then $f(c) < f(a) =f(b)=0$ and so $c \\in (a,b)$. So $f$ is differentiable at $c$. Since $c$ is an absolute minimum of $f$, $f(x) -f (c) \\ge 0$. Consequently, \n",
    "\n",
    "$$\\varphi(x):=\\dfrac{f(x)-f(c)}{x-c}\\quad \\text{and} \\quad x-c$$ \n",
    "\n",
    "have the same sign. Thus, $\\varphi(c+) \\ge 0$ and $\\varphi(c-) \\le 0$. Since $f$ is differentiable at $c$, $f'(c) = \\lim_{x\\to c} \\varphi(c)$ exists and so $f'(c) = \\varphi(c+)=\\varphi(c-)$ and hence must be $0$."
   ]
  },
  {
   "cell_type": "markdown",
   "metadata": {},
   "source": [
    "**Theorem 2.** (The mean value theorem)\n",
    "Let $f \\colon [a,b] \\to \\Rr$ satisfying:\n",
    "\n",
    "1. $f$ continuous on $[a,b]$\n",
    "1. $f$ differentiable on $(a,b)$.\n",
    "\n",
    "Then $f'(c) = \\dfrac{f(b) -f(a)}{b-a}$ for some $c \\in (a,b)$."
   ]
  },
  {
   "cell_type": "markdown",
   "metadata": {},
   "source": [
    "**Proof.**. Consider the linear function $s(x)= f(a)+\\dfrac{f(b)-f(a)}{b-a}(x-a)$ which defines the secant line joining the points $(a,f(a))$ and $(b,f(b))$. Then the function $h(x):=f(x)-s(x)$ satisfies the assumptions of Rolle theorem and hence there exists $c \\in (a,b)$ such that $0= h'(c) = f'(c)-s'(c) = f'(c) - \\dfrac{f(b)-f(a)}{b-a}$. That is, $f'(c) = \\dfrac{f(b)-f(a)}{b-a}$."
   ]
  },
  {
   "cell_type": "markdown",
   "metadata": {},
   "source": [
    "**Give examples** to show that each of the assumptions is necessary."
   ]
  },
  {
   "cell_type": "markdown",
   "metadata": {},
   "source": [
    "**Theorem 3.** (Cauchy's MVT) \n",
    "Let $f,g \\colon [a,b] \\to \\Rr$ satisfying:\n",
    "\n",
    "1. $f,g$ are continuous on $[a,b]$\n",
    "1. $f,g$ are differentiable on $(a,b)$.\n",
    "\n",
    "Then $f'(c)(g(b)-g(a)) = g'(c)(f(b)-f(a))$ for some $c \\in (a,b) \\qquad (*)$."
   ]
  },
  {
   "cell_type": "markdown",
   "metadata": {},
   "source": [
    "**Proof.** If $g(b)=g(a)$, then by applying the MVT to $g$, we conclude that there exists a $c \\in (a,b)$ such that $g'(c) = \\dfrac{g(b)-g(a)}{b-a} = 0$. Thus, ($*$) holds (with both sides equal 0). So we can assume $g(b) \\neq g(a)$, and consider the function (c.f. the proof of the MVT)\n",
    "\n",
    "$$ s(x) = s(x)= f(a)+\\dfrac{f(b)-f(a)}{g(b)-g(a)}(g(x)-g(a)). $$\n",
    "\n",
    "It follows from properties of differentiable functions (Prop. 4.1.7) and continuous functions (Prop. 3.2.5) that the function \n",
    "\n",
    "$$h(x):= f(x)-s(x)$$ \n",
    "\n",
    "is continuous on $[a,b]$ and differentiable on $(a,b)$. Moreover, it is straight forward to verify that $h(a)=0=h(b)$. Hence, it follows from Rolle Theorem that $h'(c) = f'(c)-s'(c) = f'(c) - \\dfrac{f(b)-f(a)}{g(b)-g(a)}g'(c)$ for some $c \\in (a,b)$ and so ($*$) follows. "
   ]
  }
 ],
 "metadata": {
  "celltoolbar": "Tags",
  "kernelspec": {
   "display_name": "SageMath 9.6",
   "language": "sage",
   "name": "sagemath"
  },
  "language_info": {
   "codemirror_mode": {
    "name": "ipython",
    "version": 3
   },
   "file_extension": ".py",
   "mimetype": "text/x-python",
   "name": "python",
   "nbconvert_exporter": "python",
   "pygments_lexer": "ipython3",
   "version": "3.10.4"
  }
 },
 "nbformat": 4,
 "nbformat_minor": 4
}
