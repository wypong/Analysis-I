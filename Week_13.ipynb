{
 "cells": [
  {
   "cell_type": "markdown",
   "metadata": {
    "slideshow": {
     "slide_type": "fragment"
    }
   },
   "source": [
    "$\\newcommand{\\Rr}{\\mathbb{R}}$\n",
    "$\\newcommand{\\Zz}{\\mathbb{Z}}$\n",
    "$\\newcommand{\\Nn}{\\mathbb{N}}$\n",
    "$\\newcommand{\\Qq}{\\mathbb{Q}}$\n",
    "$\\newcommand{\\ve}{\\varepsilon}$\n",
    "$\\newcommand{\\dp}[2]{\\langle #1, #2\\rangle}$\n",
    "$\\newcommand{\\va}{\\mathbf{a}}$\n",
    "$\\newcommand{\\vb}{\\mathbf{b}}$\n",
    "$\\newcommand{\\vc}{\\mathbf{c}}$\n",
    "$\\newcommand{\\vx}{\\mathbf{x}}$\n",
    "$\\newcommand{\\vy}{\\mathbf{y}}$\n",
    "$\\newcommand{\\vz}{\\mathbf{z}}$\n",
    "$\\newcommand{\\norm}[1]{\\left\\| #1 \\right\\|}$\n",
    "$\\newcommand{\\ds}{\\displaystyle}$"
   ]
  },
  {
   "cell_type": "markdown",
   "metadata": {
    "slideshow": {
     "slide_type": "slide"
    }
   },
   "source": [
    "# Derivatives"
   ]
  },
  {
   "cell_type": "markdown",
   "metadata": {},
   "source": [
    "**Read Section 4.1** and check your understanding against these questions:\n",
    "\n",
    "* What means by a function is differentiable at a point?\n",
    "\n",
    "Here is a [Youtube channel](https://www.youtube.com/results?search_query=1+brown+3+blue+Calculus) that contains some very nice videos about Calculus.\n"
   ]
  },
  {
   "cell_type": "markdown",
   "metadata": {},
   "source": [
    "**Proposition 1. (Carathéodory's Criteria)** \n",
    "\n",
    "Let $f \\colon S \\to \\Rr$ be a function and $c \\in S$ is a cluster point of $S$. \n",
    "\n",
    "$f$ is differentiable at some $c \\in S$ if and only if there exists a function (depending on $c$) \n",
    "\n",
    "$\\varphi \\colon S \\to \\Rr$ continuous at $c$ such that\n",
    "$$ f(x) -f(c) = \\varphi(x)(x-c). $$\n",
    "\n",
    "Moreover, when $f$ is differentiable at $c$, $\\varphi(c) = f'(c)$."
   ]
  },
  {
   "cell_type": "markdown",
   "metadata": {},
   "source": [
    "**Proof.** Suppose $f$ is differentiable at $c$ then the function $\\varphi(x) = \n",
    "\\begin{cases} \\dfrac{f(x)-f(c)}{x-c} & x \\neq c; \\\\ f'(c) & x= c\\end{cases}$ is continuous at $x=c$. \n",
    "\n",
    "By its definition, $f(x) -f(c) = \\varphi(x)(x-c)$ for $x \\in S\\setminus\\{c\\}$ and still holds at $x=c$ by continuity. \n",
    "\n",
    "Conversely, suppose such $\\varphi(x)$ exists. Then for all $x \\in S\\setminus\\{c\\}$, $\\varphi(x) = \\frac{f(x)-f(c)}{x-c}$ and so by continuity of $\\varphi(x)$ at $x=c$, $\\lim_{x\\to c} \\frac{f(x)-f(c)}{x-c}$ exists and is $\\varphi(c)$. This shows that $f$ is differentiable at $c$ and $f'(c) = \\varphi(c)$."
   ]
  },
  {
   "cell_type": "markdown",
   "metadata": {},
   "source": [
    "**Proposition 2.** If $f$ is differentiable at $c$, then $f$ is continuous at $c$."
   ]
  },
  {
   "cell_type": "markdown",
   "metadata": {},
   "source": [
    "**Proof.** Let $\\varphi(x)$ be the function given by the Caratheodory Criteria. Then by continuity of $\\varphi(x)$ at $x=c$, $\\varphi(x) \\to \\varphi(c)$ and hence $|f(x)-f(c)|=|\\varphi(x)||x-c|\\to \\varphi(c)(0) = 0$ as $x\\to c$. This shows that $f(x)$ is continuous at $c$."
   ]
  },
  {
   "cell_type": "markdown",
   "metadata": {},
   "source": [
    "**Proposition.** (Rules of differentiation) \n",
    "\n",
    "Suppose $f,g$ are differentiable at $c$ and $\\alpha \\in \\Rr$ then the following functions are differentiable at $c$. Moreover,\n",
    "\n",
    "* $(\\alpha f)'(c) = \\alpha f'(c)$.\n",
    "* $(f+g)'(c) = f'(c) + g'(c)$.\n",
    "* $(fg)'(c) = f'(c)g(c) + f(c)g'(c)$ (Product Rule)"
   ]
  },
  {
   "cell_type": "markdown",
   "metadata": {},
   "source": [
    "Give examples to show that differentiability assumptions on $f,g$ are necessary."
   ]
  },
  {
   "cell_type": "markdown",
   "metadata": {},
   "source": [
    "For example, neither $f(x):=|x|$ nor $g(x):=-|x|$ is differentaible at 0 but their sum which is the zero function is differentiable at 0 (in fact everywhere). \n",
    "\n",
    "Also their product which is $(fg)(x)=-x^2$ is differentiable at 0."
   ]
  },
  {
   "cell_type": "markdown",
   "metadata": {},
   "source": [
    "**Proposition.** (The Chain Rule)\n",
    "Suppose $f$ is differentiable at $c$ and $g$ is differentiable at $f(c)$, then the composition $g \\circ f$ is differentiable at $c$, moreover\n",
    "$$\n",
    "  (g\\circ f)'(c) = g'(f(c))f'(c).\n",
    "$$"
   ]
  },
  {
   "cell_type": "markdown",
   "metadata": {},
   "source": [
    "**Proof.** By Caratheodory's Criteria, there exist functions $\\varphi(x)$ and $\\psi(u)$ such that $\\varphi(x)$ is continuous at $x=c$ and $\\psi(u)$ continuous at $u=f(c)$ such that\n",
    "\n",
    "$$\n",
    "\\begin{eqnarray}\n",
    "f(x) - f(c) & = \\varphi(x)(x-c)  \\tag{1}\\\\\n",
    "g(u) - g(f(c)) & = \\psi(u)(u-f(c)) \\tag{2}\n",
    "\\end{eqnarray}\n",
    "$$\n",
    "\n",
    "Substituting $u$ by $f(x)$,\n",
    "$$\n",
    "g\\circ f(x) - g\\circ f(c) = g(f(x))-g(f(c)) = \\psi(f(x))(f(x)-f(c)) = (\\psi \\circ f)(x)\\varphi(x)(x-c)\n",
    "=((\\psi \\circ f)\\varphi)(x)(x-c)\n",
    "$$\n",
    "Since $\\psi$ is continuous at $f(c)$ and $f$ is continuous at $c$, their composition $\\psi\\circ f(x)$ is continuous at $c$. Also, since $\\varphi(x)$ is continuous at $c$, so the product $(\\psi\\circ f)\\varphi$ is continuous at $c$. This shows that $g\\circ f$ is differentiable at $x=c$. Moreover\n",
    "$$\n",
    "(g\\circ f)'(c) = \\psi(f(c))\\varphi(c) = g'(f(c))f'(c).\n",
    "$$"
   ]
  },
  {
   "cell_type": "markdown",
   "metadata": {},
   "source": [
    "Give an example to show that the differentiability assumptions on $f$ and $g$ are necessary."
   ]
  },
  {
   "cell_type": "markdown",
   "metadata": {},
   "source": [
    "Let $f(x) = |x|$ and $g(x) = x^2$. Then $f$ is not differentiable at $0$ but $g\\circ f= (|x|)^2 = x^2$ is differentiable at 0."
   ]
  }
 ],
 "metadata": {
  "kernelspec": {
   "display_name": "SageMath 9.6",
   "language": "sage",
   "name": "sagemath"
  },
  "language_info": {
   "codemirror_mode": {
    "name": "ipython",
    "version": 3
   },
   "file_extension": ".py",
   "mimetype": "text/x-python",
   "name": "python",
   "nbconvert_exporter": "python",
   "pygments_lexer": "ipython3",
   "version": "3.10.4"
  }
 },
 "nbformat": 4,
 "nbformat_minor": 4
}
