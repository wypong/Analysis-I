{
 "cells": [
  {
   "cell_type": "markdown",
   "metadata": {
    "slideshow": {
     "slide_type": "fragment"
    }
   },
   "source": [
    "$\\newcommand{\\Rr}{\\mathbb{R}}$\n",
    "$\\newcommand{\\Zz}{\\mathbb{Z}}$\n",
    "$\\newcommand{\\Nn}{\\mathbb{N}}$\n",
    "$\\newcommand{\\Qq}{\\mathbb{Q}}$\n",
    "$\\newcommand{\\ve}{\\varepsilon}$\n",
    "$\\newcommand{\\dp}[2]{\\langle #1, #2\\rangle}$\n",
    "$\\newcommand{\\va}{\\mathbf{a}}$\n",
    "$\\newcommand{\\vb}{\\mathbf{b}}$\n",
    "$\\newcommand{\\vc}{\\mathbf{c}}$\n",
    "$\\newcommand{\\vx}{\\mathbf{x}}$\n",
    "$\\newcommand{\\vy}{\\mathbf{y}}$\n",
    "$\\newcommand{\\vz}{\\mathbf{z}}$\n",
    "$\\newcommand{\\norm}[1]{\\left\\| #1 \\right\\|}$\n",
    "$\\newcommand{\\ds}{\\displaystyle}$"
   ]
  },
  {
   "cell_type": "markdown",
   "metadata": {
    "slideshow": {
     "slide_type": "slide"
    }
   },
   "source": [
    "# Extreme Value Theorem and Intermediate Value Theorem"
   ]
  },
  {
   "cell_type": "markdown",
   "metadata": {},
   "source": [
    "**Read Section 3.3** and check your understanding against these questions:\n",
    "\n",
    "* What is an absolute maximum (minimum) of a real-valued function?\n",
    "* What is extreme value theorem (aka Min-Max Theorem) (EVT)?\n",
    "* What is intermediate value theorem (IVT)?\n",
    "* Give examples to show that the assumptions of these theorem are all necessary."
   ]
  },
  {
   "cell_type": "markdown",
   "metadata": {},
   "source": [
    "**Lemma 1.** A closed interval contains all its cluster points."
   ]
  },
  {
   "cell_type": "markdown",
   "metadata": {},
   "source": [
    "**Lemma 2.** A continuous function on a closed bounded interval is bounded."
   ]
  },
  {
   "cell_type": "markdown",
   "metadata": {},
   "source": [
    "**Proof.** Suppose $f$ is continuous on $[a,b]$. If $f$ is not bounded then for any $n \\in \\Nn$, there is some $x_n \\in [a,b]$ with $|f(x_n)| > n$. But since $[a,b]$ is bounded, $(x_n)$ has a convergent subsequence $(x_{n_k})$ (**Bozanlo-Weierstrass Theorem**). Since $[a,b]$ is closed $c:=\\lim_k x_{n_k} \\in [a,b]$. By continuity, $f(x_{n_k}) \\to f(c)$. However, $|f(x_{n_k})| > n_k \\ge k$ for all $k$. In particular, $|f(n_k)| > |f(c)|+1$ for all $k > |f(c)|+1$, contradicting $f(x_{n_k}) \\to f(c)$. "
   ]
  },
  {
   "cell_type": "markdown",
   "metadata": {},
   "source": [
    "Give examples show that both assumptions, closed and bounded, are necessary."
   ]
  },
  {
   "cell_type": "markdown",
   "metadata": {},
   "source": [
    "**Example 3.** \n",
    "\n",
    "The function $f(x) = 1/x$ on $(0,1]$ is continuous but not bounded. \n",
    "\n",
    "The function $f(x) = 1/x$ with $f(0) = 0$ defines on the closed bouned interval $[0,1]$ is not bounded."
   ]
  },
  {
   "cell_type": "markdown",
   "metadata": {},
   "source": [
    "**Theorem 4 (Extreme value theorem)** \n",
    "\n",
    "A continuous function on closed bounded interval assumes its maximum value and its minimum value."
   ]
  },
  {
   "cell_type": "markdown",
   "metadata": {},
   "source": [
    "**Proof.** Let $f$ be a continuous function on $[a,b]$. The image $J := f([a,b])$ is certainly non-empty, e.g. $f(a),f(b) \\in J$. By Lemma 2, $J$ is also bounded. So, $\\sup J$ and $\\inf J$ exist. \n",
    "\n",
    "Pick a sequence $(y_n)$ of elements of $J$ that converges to $\\sup J$ (Proposition 2.1.13 and Week 05 Proposition 5). \n",
    "\n",
    "For each $n$, since $y_n \\in J = f([a,b])$, there exists some $x_n \\in [a,b]$ such that $y_n = f(x_n)$. \n",
    "\n",
    "Since $[a,b]$ is bounded, by the Bolzano-Weierstrass theorem $(x_n)$ has a convergent subsequence $(x_{n_k})$. Let $c$ be the limit of $(x_{n_k})$. \n",
    "\n",
    "Thus, by continuity of $f$ on $[a,b]$, \n",
    "\n",
    "$$\\sup J = \\lim_k y_{n_k} = \\lim_k f(x_{n_k}) = f(\\lim_k x_{n_k}) = f(c) \\in J$$\n",
    "\n",
    "and so $\\sup J = \\max J$ is the maximum value of $f$ on $[a,b]$.\n",
    "\n",
    "The statement about the absolute minimum has a similar proof, left as an exercise. "
   ]
  },
  {
   "cell_type": "markdown",
   "metadata": {},
   "source": [
    "**Theorem 5 (Bolzano's Intermediate Value Theorem)** \n",
    "\n",
    "Let $f \\colon [a,b] \\to \\Rr$ be continuous and $y_0$ is a value between $f(a)$ and $f(b)$ then $f(c) = y_0$ for some $c \\in [a,b]$."
   ]
  },
  {
   "cell_type": "markdown",
   "metadata": {},
   "source": [
    "**Lemma 6.** Suppose $f$ is continuous on $[a,b]$ with $f(a)f(b) < 0$ then there exists $c \\in (a,b)$ such that $f(c) = 0$."
   ]
  },
  {
   "cell_type": "markdown",
   "metadata": {},
   "source": [
    "**Proof.** Without loss of generality (WLOG) suppose $f(a) < 0 < f(b)$. \n",
    "\n",
    "The set $S:=\\{x \\in [a,b] \\colon f(x) < 0\\}$ is a subset of $[a,b]$ so is bounded and $S$ is non-empty since $a \\in S$. Therefore, $c:=\\sup S$ exists. By Proposition 5 in Week 05, there is a sequence $(x_n)$ in $S$ converging to $c$ and so $c \\in [a,b]$ according to Lemma 1. \n",
    "\n",
    "Since $x_n \\to c$, by continuity $f(x_n) \\to f(c)$ and since each $x_n \\in S$, $f(x_n) < 0$. Therefore, $f(c) \\le 0$. (Week 05, Proposition 8).\n",
    "\n",
    "If $f(c)  < 0$, then $c \\neq b$ and so, by continuity, $f < 0$ on an open interval $(c-\\delta, c+\\delta) \\subset [a,b]$ (cf. HW 11 Q3). In particular, $f(c+\\delta/2) < 0$, contradicting $c$ is an upper bound of $S$. Therefore, we must have $f(c) = 0$. "
   ]
  },
  {
   "cell_type": "markdown",
   "metadata": {},
   "source": [
    "**Proof.** (Bolzano's intermediate value theorem) \n",
    "\n",
    "Apply the lemma to the continuous function $g(x) := f(x)-y_0$. Since $y_0$ is a value between $f(a)$ and $f(b)$, $g(a)g(b) \\le 0$. If $g(a)g(b) = 0$, then $y_0 =f(a)$ or $f(b)$, so we are done. Otherwise $g(a)g(b) <0$, so there exists $c \\in [a,b]$ (in fact in $(a,b)$) such that $0 = g(c) = f(c)-y_0$. Thus, $f(c) = y_0$.  "
   ]
  },
  {
   "cell_type": "markdown",
   "metadata": {},
   "source": [
    "**Corollary 7.** Every odd degree polynomial over $\\Rr$ has a real root."
   ]
  },
  {
   "cell_type": "markdown",
   "metadata": {},
   "source": [
    "**Corollary 8.** The image of a closed and bounded interval under a continuous function is a closed and bounded interval."
   ]
  },
  {
   "cell_type": "markdown",
   "metadata": {},
   "source": [
    "**Remark.** A generalization: Continuous image of compact set is compact. "
   ]
  }
 ],
 "metadata": {
  "celltoolbar": "Tags",
  "kernelspec": {
   "display_name": "SageMath 9.6",
   "language": "sage",
   "name": "sagemath"
  },
  "language_info": {
   "codemirror_mode": {
    "name": "ipython",
    "version": 3
   },
   "file_extension": ".py",
   "mimetype": "text/x-python",
   "name": "python",
   "nbconvert_exporter": "python",
   "pygments_lexer": "ipython3",
   "version": "3.10.4"
  }
 },
 "nbformat": 4,
 "nbformat_minor": 4
}
