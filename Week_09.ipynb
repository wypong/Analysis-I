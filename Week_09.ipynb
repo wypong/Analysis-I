{
 "cells": [
  {
   "cell_type": "markdown",
   "metadata": {
    "slideshow": {
     "slide_type": "fragment"
    }
   },
   "source": [
    "$\\newcommand{\\Rr}{\\mathbb{R}}$\n",
    "$\\newcommand{\\Zz}{\\mathbb{Z}}$\n",
    "$\\newcommand{\\Nn}{\\mathbb{N}}$\n",
    "$\\newcommand{\\Qq}{\\mathbb{Q}}$\n",
    "$\\newcommand{\\ve}{\\varepsilon}$\n",
    "$\\newcommand{\\dp}[2]{\\langle #1, #2\\rangle}$\n",
    "$\\newcommand{\\va}{\\mathbf{a}}$\n",
    "$\\newcommand{\\vb}{\\mathbf{b}}$\n",
    "$\\newcommand{\\vc}{\\mathbf{c}}$\n",
    "$\\newcommand{\\vx}{\\mathbf{x}}$\n",
    "$\\newcommand{\\vy}{\\mathbf{y}}$\n",
    "$\\newcommand{\\vz}{\\mathbf{z}}$\n",
    "$\\newcommand{\\norm}[1]{\\left\\| #1 \\right\\|}$\n",
    "$\\newcommand{\\ds}{\\displaystyle}$"
   ]
  },
  {
   "cell_type": "markdown",
   "metadata": {
    "slideshow": {
     "slide_type": "slide"
    }
   },
   "source": [
    "# Series"
   ]
  },
  {
   "cell_type": "markdown",
   "metadata": {
    "slideshow": {
     "slide_type": "slide"
    }
   },
   "source": [
    "**Read Section 2.5.** Check your understanding against the following questions:\n",
    "\n",
    "* What is a series?\n",
    "* What means by a series is convergent?\n",
    "* What means by a series is Cauchy?\n",
    "* What means by a series converges absolutely?\n",
    "* What are comparison test, $p$-test and ratio test for convergence for series? "
   ]
  },
  {
   "cell_type": "markdown",
   "metadata": {},
   "source": [
    "**Proposition 1.** Suppose $\\sum a_n$ converges then $a_n \\to 0$."
   ]
  },
  {
   "cell_type": "markdown",
   "metadata": {},
   "source": [
    "**Proof.** Let $(s_k)$ be the sequence of partial sums of $\\sum a_n$. Since $\\sum a_n$ converges, so $s_n \\to L$ for some real number $L$. For each $n$, $0 \\le |a_n| = |s_{n+1} -s_n| \\le |s_{n+1}-L|+|s_n-L|$. Since $s_n \\to L$, so both $|s_{n+1}-L|$ and $|s_n -L| \\to 0$ as $n \\to \\infty$. That implies $|a_n|$ and hence $a_n \\to 0$. "
   ]
  },
  {
   "cell_type": "markdown",
   "metadata": {},
   "source": [
    "The converse is not true, e.g. the **Harmonic series** $\\sum \\frac{1}{n}$ diverges (see Example 2.5.11) but $\\frac{1}{n} \\to 0$."
   ]
  },
  {
   "cell_type": "markdown",
   "metadata": {},
   "source": [
    "**Proposition 2.** The series $\\ds \\sum_{n=0}^\\infty r^n$ converges to $\\dfrac{1}{1-r}$ for $|r| < 1$ and diverges for $|r| \\ge 1$."
   ]
  },
  {
   "cell_type": "markdown",
   "metadata": {},
   "source": [
    "Many results about sequences have their counterparts for series (when applying to the sequence of partial sums). \n",
    "\n",
    "For example, linearity of summation (Proposition 2.5.12). Another example, as a consequence of the monotonic convergence theorem, is that:"
   ]
  },
  {
   "cell_type": "markdown",
   "metadata": {},
   "source": [
    "**Proposition 3 (Convergence criteria for series with non-negative terms).**\n",
    "\n",
    "A series $\\sum x_n$ with non-negative terms (i.e. $x_n \\ge 0$) converges if and only if its sequence of partial sums is bounded above."
   ]
  },
  {
   "cell_type": "markdown",
   "metadata": {},
   "source": [
    "**Proof.** Under the assumption that $x_n \\ge 0$ ($n \\in \\Nn$), the sequence of partial sums $(s_n)$ of $\\sum x_n$ is monotonic increasing. So $(s_n)$ is convergent if and only if its is bounded above.  (*Proposition 2 and 3 of Week 05*)"
   ]
  },
  {
   "cell_type": "markdown",
   "metadata": {},
   "source": [
    "**Proposition 4.** Absolute convergence for series implies convergence for series (i.e. if $\\sum |x_n|$ converges then $\\sum x_n$ converges.) "
   ]
  },
  {
   "cell_type": "markdown",
   "metadata": {},
   "source": [
    "**Idea.** Use the fact that a convergent sequence is Cauchy."
   ]
  },
  {
   "cell_type": "markdown",
   "metadata": {},
   "source": [
    "**Proof.** Let $(u_k)$ and $(s_k)$ be the sequence of partial sums of $\\sum |x_n|$ and $\\sum x_n$, respectively. Note that for any $m, n$, \n",
    "\n",
    "$$ |s_m-s_n| = |x_n + x_{n+1} + \\cdots + x_m| \\le |x_n| + |x_{n+1}| + \\cdots + |x_m| = |u_m -u_n|. $$\n",
    "\n",
    "Since $(u_k)$ is convergent and hence Cauchy, so $|u_m-u_n|$ and hence $|s_m-s_n|$ can be smaller than any prescribed $\\varepsilon > 0$ for all $m, n \\gg 0$. Therefore, $(s_k)$ is also Cauchy and hence convergent."
   ]
  },
  {
   "cell_type": "markdown",
   "metadata": {},
   "source": [
    "The converse of this proposition is not true. E.g. $\\sum (-1)^n/n$ converges but $\\sum |(-1)^n|/n = \\sum 1/n$, which is the Harmonic series, diverges."
   ]
  },
  {
   "cell_type": "markdown",
   "metadata": {},
   "source": [
    "A series converges **conditionally** if it converges but not absolutely converges."
   ]
  },
  {
   "cell_type": "markdown",
   "metadata": {},
   "source": [
    "**Proposition 5 (Comparision Test 2.5.16)** Suppose $0 \\le x_n \\le y_n$, then $\\sum x_n$ converges if $\\sum y_n$ does."
   ]
  },
  {
   "cell_type": "markdown",
   "metadata": {},
   "source": [
    "**Proof.** Let $(s_k)$ and $(u_k)$ be the sequence of partial sums of $\\sum x_n$ and $\\sum y_n$ respectively. The conditions $0 \\le x_n \\le y_n$ for all $n$ imply $0 \\le s_k \\le u_k$ for all $k$. The proposition now follows immediately form the convergence criteria for series with non-negative terms."
   ]
  },
  {
   "cell_type": "markdown",
   "metadata": {},
   "source": [
    "**Proposition 6. (p-test 2.5.17)** For $p \\in \\Rr$, the series $\\ds \\sum \\frac{1}{n^p}$ converges if and only if $p > 1$."
   ]
  },
  {
   "cell_type": "markdown",
   "metadata": {},
   "source": [
    "**Idea.** For $p \\le 1$ and $n > 1$, $\\dfrac{1}{n^p} \\ge \\dfrac{1}{n} > 0$. So, it follows from the comparison test and the fact that the Harmonic series diverges that $\\ds \\sum \\dfrac{1}{n^p}$ diverges.\n",
    "\n",
    "For $p > 1$ and $k \\ge 2$, \n",
    "\n",
    "$$\\sum_{n=1}^k \\dfrac{1}{n^p} = 1+ \\sum_{n=2}^k \\frac{1}{n^p} < 1 + \\int_{1}^{k} \\frac{1}{x^p} dx \\le 1+\\frac{1}{p-1}.$$\n",
    "\n",
    "Therefore, $\\ds \\sum \\frac{1}{n^p}$ converges."
   ]
  },
  {
   "cell_type": "markdown",
   "metadata": {},
   "source": [
    "Here we use integration which we have not even defined rigorously. The advantage is that this argument is more geometric (compare the series with the area under a curve). For a proof without using an integral see the textbook. "
   ]
  },
  {
   "cell_type": "markdown",
   "metadata": {},
   "source": [
    "The following variation of the comparison test often easier to apply in practice."
   ]
  },
  {
   "cell_type": "markdown",
   "metadata": {},
   "source": [
    "**Proposition 7 (Limit Comparison Test).**\n",
    "\n",
    "Suppose $0 < x_n, y_n$ for all $n$ and $\\ds \\lim_{n \\to \\infty} \\dfrac{x_n}{y_n} = L > 0$. Then $\\sum x_n$ converges if and only if $\\sum y_n$ converges.\n",
    "\n",
    "If $L = 0$, then the convergence of $\\sum y_n$ implies the convergence of $\\sum x_n$."
   ]
  },
  {
   "cell_type": "markdown",
   "metadata": {},
   "source": [
    "**Proof.** Since $\\ds \\lim_{n\\to \\infty} \\dfrac{x_n}{y_n} = L$ and $L > 0$. for all sufficiently large $n$, \n",
    "$$\n",
    "\\frac{L}{2} < \\frac{x_n}{y_n} < \\frac{3L}{2}.\n",
    "$$\n",
    "That is, (since $y_n >0$), $\\ds 0< \\frac{L}{2}y_n < x_n < \\frac{3L}{2}y_n$. So by the Comparison Test, if $\\sum x_n$ converges then so is $\\ds \\sum \\frac{L}{2}y_n$ and consequently $\\ds \\frac{2}{L}\\sum\\frac{L}{2}y_n = \\sum y_n$ converges. Conversely, if $\\sum y_n$ converges, then so is $\\ds \\sum \\frac{3L}{2}y_n$ and so $\\sum x_n$ converges as well by the Comparison Test.\n",
    "\n",
    "If $L = 0$, then for all sufficiently large $n$, $\\dfrac{x_n}{y_n} < 1$ and so $0 < x_n < y_n$. Thus, the convergence of $\\sum x_n$ follows from the convergence of $\\sum y_n$ by the comparison test."
   ]
  },
  {
   "cell_type": "markdown",
   "metadata": {},
   "source": [
    "**Example.** Let us show that $\\ds \\sum \\frac{1}{n^3 -1}$ is convergent.\n",
    "Since $\\ds \\frac{1}{n^3-1}$ is essentially $\\dfrac{1}{n^3}$, so one would expect the series converges by the p-test. However, since $\\dfrac{1}{n^3} < \\dfrac{1}{n^3-1}$ ($n \\ge 2$), the comparison test does not apply directly. That said, the since the limit\n",
    "$$\n",
    "\\dfrac{\\dfrac{1}{n^3}}{\\dfrac{1}{n^3-1}} = \\dfrac{n^3-1}{n^3} = 1 - \\dfrac{1}{n^3} \\to 1.\n",
    "$$\n",
    "So $\\ds \\sum \\frac{1}{n^3-1}$ converges (since $\\ds \\sum \\frac{1}{n^3}$ does) by the limit comparison test.\n",
    "\n",
    "Another way of showing the convergence of $\\ds \\sum \\frac{1}{n^3 -1}$ is as follows: Note that $\\ds \\sum \\frac{1}{n^2}$ converges (p-test) and\n",
    "$$\n",
    "\\dfrac{\\dfrac{1}{n^3-1}}{\\dfrac{1}{n^2}} = \\dfrac{n^2}{n^3-1} = \\dfrac{1}{n-1/n^2} \\to 0.\n",
    "$$\n",
    "so the convergence of $\\ds \\sum \\frac{1}{n^3 -1}$ follows from the limit comparison test ($L=0$ case) as well."
   ]
  },
  {
   "cell_type": "markdown",
   "metadata": {},
   "source": [
    "**Proposition 8.** (Ratio test for series) Suppose $\\ds L:=\\lim_{n} \\frac{|x_{n+1}|}{|x_n|}$ exists. Then\n",
    "\n",
    "1. $\\sum x_n$ converges absolutely if $L < 1$.\n",
    "1. $\\sum x_n$ diverges if $L > 1$."
   ]
  },
  {
   "cell_type": "markdown",
   "metadata": {},
   "source": [
    "**Idea.** If $L > 1$, the sequence $(x_n)$ is unbounded by the ratio test for sequences, hence diverges and so must the series $\\sum x_n$. \n",
    "\n",
    "If $L < 1$, then there exists $N$ such that $\\ds \\frac{|x_{n+1}|}{|x_n|} < r:=\\frac{1+L}{2} < 1$ for all $n \\ge N$. Thus, $|x_{N+k}| \\le r^{k}|x_N|$ for all $k \\ge 0$. And so, \n",
    "\n",
    "$$ \\sum_k |x_{N+k}| < |x_N|\\sum_k r^k. $$\n",
    "The series on the right converges since $r < 1$, thus $\\sum_k x_{N+k}$ converges absolutely by the comparision test and so does $\\sum_n x_n$."
   ]
  },
  {
   "cell_type": "markdown",
   "metadata": {},
   "source": [
    "If $L=1$, then further investigation is necessarily for deciding the convergency. E.g. consider $\\sum 1/n$ and $\\sum 1/n^2$. Both have them have have 1 as the limit of the ratio of consecutive terms. But the Harmonic series diverges while $\\sum 1/n^2$ converges (absolutely) by the p-test."
   ]
  },
  {
   "cell_type": "markdown",
   "metadata": {},
   "source": [
    "## Further Reading\n",
    "\n",
    "Here we just touch upon tests of convergence. For more information read this [wiki page](https://en.wikipedia.org/wiki/Convergence_tests) "
   ]
  }
 ],
 "metadata": {
  "celltoolbar": "Tags",
  "kernelspec": {
   "display_name": "SageMath 9.6",
   "language": "sage",
   "name": "sagemath"
  },
  "language_info": {
   "codemirror_mode": {
    "name": "ipython",
    "version": 3
   },
   "file_extension": ".py",
   "mimetype": "text/x-python",
   "name": "python",
   "nbconvert_exporter": "python",
   "pygments_lexer": "ipython3",
   "version": "3.10.4"
  }
 },
 "nbformat": 4,
 "nbformat_minor": 4
}
