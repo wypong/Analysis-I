{
 "cells": [
  {
   "cell_type": "markdown",
   "metadata": {
    "slideshow": {
     "slide_type": "fragment"
    }
   },
   "source": [
    "$\\newcommand{\\Rr}{\\mathbb{R}}$\n",
    "$\\newcommand{\\Zz}{\\mathbb{Z}}$\n",
    "$\\newcommand{\\Nn}{\\mathbb{N}}$\n",
    "$\\newcommand{\\Qq}{\\mathbb{Q}}$\n",
    "$\\newcommand{\\ve}{\\varepsilon}$\n",
    "$\\newcommand{\\dp}[2]{\\langle #1, #2\\rangle}$\n",
    "$\\newcommand{\\va}{\\mathbf{a}}$\n",
    "$\\newcommand{\\vb}{\\mathbf{b}}$\n",
    "$\\newcommand{\\vc}{\\mathbf{c}}$\n",
    "$\\newcommand{\\vx}{\\mathbf{x}}$\n",
    "$\\newcommand{\\vy}{\\mathbf{y}}$\n",
    "$\\newcommand{\\vz}{\\mathbf{z}}$\n",
    "$\\newcommand{\\norm}[1]{\\left\\| #1 \\right\\|}$"
   ]
  },
  {
   "cell_type": "markdown",
   "metadata": {
    "slideshow": {
     "slide_type": "slide"
    }
   },
   "source": [
    "# Norm, metric and bounded functions"
   ]
  },
  {
   "cell_type": "markdown",
   "metadata": {
    "slideshow": {
     "slide_type": "slide"
    }
   },
   "source": [
    "Read **Section 1.3 and 1.4**. Check yourself against the following questions:\n",
    "\n",
    "* What is the triangle inequality for $\\Rr$?\n",
    "* What means by a function is bounded?\n",
    "* What is the characterization of intervals of $\\Rr$? (Can you proof Propsition 1.4.1?)"
   ]
  },
  {
   "cell_type": "markdown",
   "metadata": {
    "slideshow": {
     "slide_type": "slide"
    }
   },
   "source": [
    "Recall the [dot product](https://en.wikipedia.org/wiki/Dot_product) of $\\Rr^n$ is defined by \n",
    "$$ \\dp{\\vx}{\\vy} = \\sum_{i=1}^n x_iy_i $$\n",
    "It is symmetric and bilinear."
   ]
  },
  {
   "cell_type": "markdown",
   "metadata": {
    "slideshow": {
     "slide_type": "slide"
    }
   },
   "source": [
    "The (Euclidean) [**norm**](https://en.wikipedia.org/wiki/Norm_(mathematics)) of a vector $\\vx \\in \\Rr^n$, denoted by $\\norm{\\vx}$ is $\\sqrt{\\dp{\\vx}{\\vx}}$. Note that\n",
    "* $\\norm{a\\vx} = a\\norm{\\vx}$.\n",
    "* $\\norm{\\vx} \\ge 0$ and $\\norm{\\vx} = 0$ if and only if $\\vx = \\mathbf{0}$.\n",
    "* When $n=1$, $\\norm{x} = \\sqrt{x^2} = |x|$."
   ]
  },
  {
   "cell_type": "markdown",
   "metadata": {
    "slideshow": {
     "slide_type": "fragment"
    }
   },
   "source": [
    "The (Euclidean) distance between $\\vx, \\vy \\in \\Rr^n$ is defined to be $d(\\vx,\\vy):= \\norm{\\vx-\\vy}$.\n",
    "It is a [metric](https://en.wikipedia.org/wiki/Metric_(mathematics)) on $\\Rr^n$."
   ]
  },
  {
   "cell_type": "markdown",
   "metadata": {
    "slideshow": {
     "slide_type": "slide"
    }
   },
   "source": [
    "The key inequality about the dot product on $\\Rr^n$ is"
   ]
  },
  {
   "cell_type": "markdown",
   "metadata": {
    "slideshow": {
     "slide_type": "fragment"
    }
   },
   "source": [
    "**Theorem.** ([Cauchy-Schwarz](https://en.wikipedia.org/wiki/Cauchy%E2%80%93Schwarz_inequality)) $|\\dp{\\vx}{\\vy}| \\le \\norm{\\vx}\\norm{\\vy}$ ($\\forall \\vx, \\vy \\in \\Rr^n$). The equality holds if and only if one of the vector is a multiple of the other."
   ]
  },
  {
   "cell_type": "markdown",
   "metadata": {
    "slideshow": {
     "slide_type": "slide"
    },
    "tags": [
     "remove_cell"
    ]
   },
   "source": [
    "**Proof.** The equality clearly holds if one of the vector is a multiple of the other. Thus, wlog we can assume $\\vy - t\\vx \\neq \\mathbf{0}$ for all $t \\in \\Rr$. So,\n",
    "$$ \n",
    "\\begin{align*}\n",
    "  0 < \\norm{\\vy - t\\vx} &= \\norm{\\vy}^2 - 2t\\dp{\\vx}{\\vy}                 + t^2\\norm{\\vx}^2.\n",
    "\\end{align*}\n",
    "$$\n",
    "That means $4\\dp{\\vx}{\\vy}^2 -4\\norm{\\vx}^2\\norm{\\vy}^2$, the discriminant of the quadratic (in $t$) on the right, must be negative or equivalently, $|\\dp{\\vx}{\\vy}| < \\norm{\\vx}\\norm{\\vy}$.  "
   ]
  },
  {
   "cell_type": "markdown",
   "metadata": {
    "slideshow": {
     "slide_type": "slide"
    }
   },
   "source": [
    "A consequence of Cauchy-Schwarz inequality is \n",
    "\n",
    "**Proposition.** (Triangle inequality) For $\\vx,\\vy \\in \\Rr^n$, $\\norm{\\vx+\\vy} \\le \\norm{\\vx}+\\norm{\\vy}$."
   ]
  },
  {
   "cell_type": "markdown",
   "metadata": {
    "slideshow": {
     "slide_type": "fragment"
    }
   },
   "source": [
    "**Proof.** $$\n",
    "\\begin{align*}\n",
    "\\norm{\\vx+\\vy}^2 &= \\dp{\\vx+\\vy}{\\vx+\\vy}\\\\ &=\n",
    "\\norm{\\vx}^2 + 2\\dp{\\vx}{\\vy} + \\norm{\\vy}^2 \\stackrel{\\text{C-S}}{\\le} \\norm{\\vx}^2 + 2\\norm{\\vx}\\norm{\\vy} + \\norm{\\vy}^2\\\\ &= (\\norm{\\vx} + \\norm{\\vy})^2\n",
    "\\end{align*}\n",
    "$$"
   ]
  },
  {
   "cell_type": "markdown",
   "metadata": {
    "slideshow": {
     "slide_type": "subslide"
    }
   },
   "source": [
    "In terms of the Euclidean distance: for any $\\vx,\\vy,\\vz \\in \\Rr^n$, \n",
    "$$\n",
    "\\begin{align*}\n",
    "   d(\\vx,\\vy) &= \\norm{\\vx-\\vy} =\\norm{\\vx -\\vz + \\vz-\\vy}\\\\ \n",
    "   &\\le \\norm{\\vx-\\vz}+\\norm{\\vz-\\vy} = d(\\vx,\\vz) + d(\\vz,\\vy).\n",
    "   \\end{align*}\n",
    "$$"
   ]
  },
  {
   "cell_type": "markdown",
   "metadata": {
    "slideshow": {
     "slide_type": "fragment"
    }
   },
   "source": [
    "A variant of the triangle inequality is that\n",
    "\n",
    "$$ |\\norm{\\vx}-\\norm{\\vy}| \\le \\norm{\\vx-\\vy} $$"
   ]
  },
  {
   "cell_type": "markdown",
   "metadata": {},
   "source": [
    "**Proof.** It follows from the triangle inequality that \n",
    "\n",
    "$$\\norm{\\vx} = \\norm{\\vy + \\vx - \\vy} \\le \\norm{\\vy} + \\norm{\\vx-\\vy}.$$ \n",
    "\n",
    "So, $\\norm{\\vx}-\\norm{\\vy} \\le \\norm{\\vx - \\vy}$. Now switching the role of $\\vx$ and $\\vy$, we get\n",
    "\n",
    "$$\\norm{\\vy} - \\norm{\\vx} \\le \\norm{\\vy-\\vx} = \\norm{\\vx - \\vy}.$$\n",
    "\n",
    "Thus, $|\\norm{\\vx}-\\norm{\\vy}| \\le \\norm{\\vx-\\vy}$.\n",
    "\n"
   ]
  },
  {
   "cell_type": "markdown",
   "metadata": {},
   "source": [
    "## Bounded functions"
   ]
  },
  {
   "cell_type": "markdown",
   "metadata": {},
   "source": [
    "**Definition** A function $f \\colon D \\to \\Rr$ is **bounded above** if there exists $M \\in \\Rr$ such that \n",
    "$$ f(x) \\le M \\quad \\text{for any } x \\in D.$$\n",
    "\n",
    "A function $f \\colon D \\to \\Rr$ is **bounded below** if there exists $m \\in \\Rr$ such that \n",
    "$$ m \\le f(x) \\quad \\text{for any } x \\in D.$$\n",
    "\n",
    "A function $f \\colon D \\to \\Rr$ is **bounded** if it is both bounded above and bounded below.\n",
    "\n",
    "Equivalent, $f$ is bounded if and only there exists $B \\in \\Rr$, such that $|f(x)| \\le B$ for any $x \\in D$."
   ]
  },
  {
   "cell_type": "markdown",
   "metadata": {},
   "source": [
    "In other words, $f$ is bounded (above, below) if, and only if, its range $f(D)$ is a bounded (above, below). "
   ]
  },
  {
   "cell_type": "markdown",
   "metadata": {},
   "source": [
    "**Proposition** (c.f. 1.3.7) Suppose functions $f,g \\colon D \\to \\Rr$ are bounded below (and $D \\neq \\emptyset$)\n",
    "$f \\le g$ on $D$, i.e. $f(x) \\le g(x)$ for all $x \\in D$. Then \n",
    "\n",
    "\n",
    "$$ \\inf_{x \\in D} f(x) \\le \\inf_{x \\in D} g(x).$$"
   ]
  },
  {
   "cell_type": "markdown",
   "metadata": {},
   "source": [
    "**Proof.** Both $f(D)$ and $g(D)$ are bounded below and non-empty (since $D \\neq \\emptyset$) so both $\\inf_{x \\in D} f(x)$ and $\\inf_{x \\in D} g(x)$ exist.\n",
    "\n",
    "If $m$ is a lower bound of $f(D)$, $m \\le f(x)$ for all $x \\in D$. But since $f(x) \\le g(x)$ for all $x \\in D$, so $m$ is also a lower bound of $g(D)$. In particular, $\\inf_{x \\in D} f(x)$ is a lower bound of $g(D)$. Therefore,\n",
    "\n",
    "$$ \\inf_{x \\in D} f(x) \\le \\inf_{x \\in D} g(x). $$"
   ]
  },
  {
   "cell_type": "markdown",
   "metadata": {},
   "source": [
    "**Example** (see exercise 1.3.5) \n",
    "\n",
    "Consider the functions $f(x) = \\sin(x)$ and $g(x) = 1+f(x)$ on $D = [-\\pi, \\pi]$. \n",
    "\n",
    "Clearly, $f(x) \\le 1+f(x) = g(x)$ for any $x \\in D$. But \n",
    "\n",
    "$$\\sup_{x \\in D} f(x) = 1 > 0 = \\inf_{x \\in D} g(x) = 0.$$ \n",
    "\n",
    "This examples shows that for bounded functions $f$ and $g$, the condition $f(x) \\le g(x)$ for all $x \\in D$ is not strong enough to guarantee that $\\sup_{x \\in D} f(x) \\le \\inf_{x \\in D} g(x)$."
   ]
  }
 ],
 "metadata": {
  "celltoolbar": "Tags",
  "kernelspec": {
   "display_name": "SageMath 9.6",
   "language": "sage",
   "name": "sagemath"
  },
  "language_info": {
   "codemirror_mode": {
    "name": "ipython",
    "version": 3
   },
   "file_extension": ".py",
   "mimetype": "text/x-python",
   "name": "python",
   "nbconvert_exporter": "python",
   "pygments_lexer": "ipython3",
   "version": "3.10.4"
  }
 },
 "nbformat": 4,
 "nbformat_minor": 4
}
