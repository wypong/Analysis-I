{
 "cells": [
  {
   "cell_type": "markdown",
   "metadata": {
    "slideshow": {
     "slide_type": "fragment"
    }
   },
   "source": [
    "$\\newcommand{\\Rr}{\\mathbb{R}}$\n",
    "$\\newcommand{\\Zz}{\\mathbb{Z}}$\n",
    "$\\newcommand{\\Nn}{\\mathbb{N}}$\n",
    "$\\newcommand{\\Qq}{\\mathbb{Q}}$\n",
    "$\\newcommand{\\ve}{\\varepsilon}$\n",
    "$\\newcommand{\\dp}[2]{\\langle #1, #2\\rangle}$\n",
    "$\\newcommand{\\va}{\\mathbf{a}}$\n",
    "$\\newcommand{\\vb}{\\mathbf{b}}$\n",
    "$\\newcommand{\\vc}{\\mathbf{c}}$\n",
    "$\\newcommand{\\vx}{\\mathbf{x}}$\n",
    "$\\newcommand{\\vy}{\\mathbf{y}}$\n",
    "$\\newcommand{\\vz}{\\mathbf{z}}$\n",
    "$\\newcommand{\\norm}[1]{\\left\\| #1 \\right\\|}$\n",
    "$\\newcommand{\\ds}{\\displaystyle}$"
   ]
  },
  {
   "cell_type": "markdown",
   "metadata": {
    "slideshow": {
     "slide_type": "slide"
    }
   },
   "source": [
    "# Applications of the MVT"
   ]
  },
  {
   "cell_type": "markdown",
   "metadata": {},
   "source": [
    "**Proposition 1.** Let $f$ be differentiable on an open interval $I$ so that $f' \\equiv 0$ on $I$, then $f$ is constant on $I$."
   ]
  },
  {
   "cell_type": "markdown",
   "metadata": {},
   "source": [
    "**Proof.** Take any two points $a,b \\in I$. Then $f$ is continuous on $[a,b]$ and differentiable on $(a,b)$. So it follows from the MVT that $f(b)-f(a) = f'(c)$ for some $c \\in (a,b) \\subset I$. Since $f'\\equiv 0$ on $I$, $f'(c)=0$. Therefore, $f(b)-f(a) = 0$, that is $f(b)=f(a)$. Since $a,b \\in I$ are arbitrary, we conclude that $f$ is constant on $I$. "
   ]
  },
  {
   "cell_type": "markdown",
   "metadata": {},
   "source": [
    "**Remark.** The \"connectedness\" of an interval is important here. For example, the function defined on $S:=(-1,1)\\setminus \\{0\\}=(-1,0) \\cup (0,1)$ by \n",
    "\n",
    "$$\n",
    "f(x) = \n",
    "\\begin{cases}\n",
    "1 & x \\in (0,1) \\\\\n",
    "-1 & x \\in (-1,0)\n",
    "\\end{cases}\n",
    "$$\n",
    "\n",
    "has derivative 0 on $S$ and yet $f$ is not constant on $S$."
   ]
  },
  {
   "cell_type": "markdown",
   "metadata": {},
   "source": [
    "In general, given $f' \\equiv 0$ all we can say it that $f$ is **locally constant** (i.e. constant of each \"connected component\" of its domain). \n",
    "\n",
    "When we write $C$ for the \"integration constant\", it actually represent that class of locally constant functions on the domain of the integrand. "
   ]
  },
  {
   "cell_type": "markdown",
   "metadata": {},
   "source": [
    "**Proposition 2.** Let $f$ be differentiable on an open interval $I$. Then\n",
    "\n",
    "$f$ is increasing (decreasing) on $I$ if and only if $f' \\ge 0$ ($f' \\le 0$) on $I$."
   ]
  },
  {
   "cell_type": "markdown",
   "metadata": {},
   "source": [
    "**Proof.** We argue for the increasing case only (a proof of the decreasing case can be obtained by replacing $f$ with $-f$, and left as an exercise). \n",
    "\n",
    "Suppose $f$ is increasing on $I$. Fix any $c \\in I$, since $f$ is increasing, for any $x \\in I$, $f(x)-f(c) \\ge 0$ if only if $x-c \\ge 0$. Thus, $\\varphi(x):=\\dfrac{f(x)-f(c)}{x-c} \\ge 0$ for any $x \\in I \\setminus\\{c\\}$. Thus, $\\ds f'(c) = \\lim_{x\\to c} \\varphi(x) \\ge 0$.\n",
    "\n",
    "Conversely, suppose $f' \\ge 0$ on $I$. Then for any $a, b \\in I$, with $a < b$, by the MVT we have some $c \\in (a,b)$ such that \n",
    "\n",
    "$$\n",
    "f(b) - f(a) = f'(c)(b-a).\n",
    "$$\n",
    "\n",
    "Since $f' \\ge 0$ on $I$, in particular, $f'(c) \\ge 0$. And since $b-a > 0$, so $f(b) -f(a) = f'(c)(b-a) \\ge 0$. That is $f(b) \\ge f(a)$. Since $a,b \\in I$ are arbitrary, we conclude that $f$ is increasing on $I$."
   ]
  },
  {
   "cell_type": "markdown",
   "metadata": {},
   "source": [
    "**Proposition 3.** Let $f$ be differentiable on an open interval $I$. Then\n",
    "\n",
    "$f' > 0$ ($f' < 0$) on $I$ implies $f$ is strictly increasing (decreasing) on $I$."
   ]
  },
  {
   "cell_type": "markdown",
   "metadata": {},
   "source": [
    "Replace $\\ge$ by $>$ in the proof of the direction $f' \\ge 0 \\implies f$ increasing on $I$ in the above proposition."
   ]
  },
  {
   "cell_type": "markdown",
   "metadata": {},
   "source": [
    "Give an example to show that the converse of the statement above is not true. "
   ]
  },
  {
   "cell_type": "markdown",
   "metadata": {},
   "source": [
    "**Example.** $f(x)=x^3$ is strictly increasing on $(-1,1)$ but $f'(0) = 0$."
   ]
  },
  {
   "cell_type": "markdown",
   "metadata": {},
   "source": [
    "**Proposition 4 (First derivative Test).**\n",
    "\n",
    "Let $c \\in (a,b)$. Suppose $f \\colon (a,b) \\to \\Rr$ continuous on $(a,b)$ and differentiable on $(a,b) \\setminus \\{c\\}$.\n",
    "\n",
    "* If $f' \\ge 0$ on $(a,c)$ and $f' \\le 0$ on $(c,b)$ then $c$ is an absolute maximum of $f$ on $(a,b)$.\n",
    "\n",
    "* If $f' \\le 0$ on $(a,c)$ and $f' \\ge 0$ on $(c,b)$ then $c$ is an absolute minimum of $f$ on $(a,b)$."
   ]
  },
  {
   "cell_type": "markdown",
   "metadata": {},
   "source": [
    "**Proof.** We just establish the 2nd statement (the 1st one has a similar proof). \n",
    "\n",
    "Take any $x \\in (a,c)$. Then, $f$ is differentiable on $(x,c) \\subseteq (a,b)\\setminus\\{c\\}$ and continuous on $[x,c] \\subseteq (a,b)$. \n",
    "\n",
    "Thus, the restriction of $f$ to $[x,c]$ satisfies the assumptions of the MVT. Hence $f(c)-f(x) = f'(t)(c-x)$ for some $t \\in (x,c)$. Since $f' \\le 0$ on $(a,c)$, $f'(t) \\le 0$ and $x < c$, so $f(c)-f(x)=f'(t)(c-x) \\le 0$, i.e. $f(c) \\le f(x)$. \n",
    "\n",
    "Likewise, for any $x \\in (c,b)$, it follows from the MVT that $f(x)-f(c) = f'(s)(x-c)$ for some $s \\in (c,x)$. Since $f'(s) \\ge 0$ by assumption and $x > c$. Therefore $f(x)-f(c) \\ge 0$, i.e. $f(x) \\ge f(c)$. \n",
    "\n",
    "Combining these two parts, we conclude that $c$ is an absolute minimum of $f$ on $(a,b)$."
   ]
  },
  {
   "cell_type": "markdown",
   "metadata": {},
   "source": [
    "**Theorem (Darboux).** Let $f \\colon [a,b] \\to \\Rr$ be differentiable. Suppose $\\lambda$ is in between $f'(a)$ and $f'(b)$. Then $f'(c) = \\lambda$ for some $c \\in (a,b)$."
   ]
  },
  {
   "cell_type": "markdown",
   "metadata": {},
   "source": [
    "**Proof.** The function $g(x):=\\lambda x - f(x)$ is differentiable and hence continuous on $[a,b]$. Since $\\lambda$ is in between $f'(a)$ and $f'(b)$, say $f'(a) < \\lambda < f'(b)$, then $g'(a) < 0 < g'(b)$. So by the lemma (4.2.12), there exists $t_1, t_2 \\in (a,b)$ such that $g(a) > g(t_1)$ and $g(t_2) < g(b)$ so the minimum of $g$ on $[a,b]$ happens at some $c \\in (a,b)$. But then $\\lambda -f'(c) = g'(c) =0$ so $\\lambda = f'(c)$.  "
   ]
  },
  {
   "cell_type": "markdown",
   "metadata": {},
   "source": [
    "Study example 4.2.12 in details."
   ]
  },
  {
   "cell_type": "markdown",
   "metadata": {},
   "source": [
    "**Proposition (Second derivative test)** Suppose $f \\colon (a,b) \\to \\Rr$ is differentiable on $(a,b)$, $x_0 \\in (a,b)$ with $f'(x_0) =0$ and $f''(x_0) > 0$, then $x_0$ is a strict local minimum of $f$."
   ]
  },
  {
   "cell_type": "markdown",
   "metadata": {},
   "source": [
    "**Proof.** The assume $f''(x_0) > 0$, means\n",
    "$$ 0 < f''(x_0) = \\lim_{x \\to x_0} \\frac{f'(x) -f'(x_0)}{x-x_0} = \\lim_{x\\to x_0}\\frac{f'(x)}{x-x_0}.$$ "
   ]
  },
  {
   "cell_type": "markdown",
   "metadata": {},
   "source": [
    "Thus, $f'(x)/(x-x_0) > f''(x_0)/2 > 0$ on an open neighborhood of $x_0$. That means $f'(x)$ changes from negative to positive across $x_0$ on a neighborhood of $x_0$. Therefore, the assertion follows from the 1st derivative test. "
   ]
  }
 ],
 "metadata": {
  "celltoolbar": "Tags",
  "kernelspec": {
   "display_name": "SageMath 9.6",
   "language": "sage",
   "name": "sagemath"
  },
  "language_info": {
   "codemirror_mode": {
    "name": "ipython",
    "version": 3
   },
   "file_extension": ".py",
   "mimetype": "text/x-python",
   "name": "python",
   "nbconvert_exporter": "python",
   "pygments_lexer": "ipython3",
   "version": "3.10.4"
  }
 },
 "nbformat": 4,
 "nbformat_minor": 4
}
